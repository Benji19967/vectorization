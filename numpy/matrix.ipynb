{
 "cells": [
  {
   "cell_type": "markdown",
   "metadata": {},
   "source": [
    "# Matrix operations with NumPy"
   ]
  },
  {
   "cell_type": "code",
   "execution_count": 5,
   "metadata": {},
   "outputs": [],
   "source": [
    "import numpy as np"
   ]
  },
  {
   "cell_type": "code",
   "execution_count": 11,
   "metadata": {},
   "outputs": [
    {
     "data": {
      "text/plain": [
       "array([[1., 2., 3., 0.],\n",
       "       [4., 5., 6., 0.],\n",
       "       [7., 8., 9., 0.]])"
      ]
     },
     "execution_count": 11,
     "metadata": {},
     "output_type": "execute_result"
    }
   ],
   "source": [
    "# Append a column to a matrix\n",
    "\"\"\"\n",
    "1 2 3       1 2 3 0\n",
    "4 5 6 -->   4 5 6 0\n",
    "7 8 9       7 8 9 0\n",
    "\"\"\"\n",
    "m = [[1, 2, 3], [4, 5, 6], [7, 8, 9]]\n",
    "b = np.zeros((3, 1))\n",
    "np.c_[m, b]"
   ]
  },
  {
   "cell_type": "code",
   "execution_count": 12,
   "metadata": {},
   "outputs": [
    {
     "data": {
      "text/plain": [
       "array([[0., 1., 2., 3.],\n",
       "       [0., 4., 5., 6.],\n",
       "       [0., 7., 8., 9.]])"
      ]
     },
     "execution_count": 12,
     "metadata": {},
     "output_type": "execute_result"
    }
   ],
   "source": [
    "# Prepend a column to a matrix\n",
    "\"\"\"\n",
    "1 2 3       0 1 2 3\n",
    "4 5 6 -->   0 4 5 6\n",
    "7 8 9       0 7 8 9\n",
    "\"\"\"\n",
    "m = [[1, 2, 3], [4, 5, 6], [7, 8, 9]]\n",
    "b = np.zeros((3, 1))\n",
    "np.c_[b, m]"
   ]
  },
  {
   "cell_type": "code",
   "execution_count": 13,
   "metadata": {},
   "outputs": [
    {
     "data": {
      "text/plain": [
       "array([[1., 2., 3.],\n",
       "       [4., 5., 6.],\n",
       "       [7., 8., 9.],\n",
       "       [0., 0., 0.]])"
      ]
     },
     "execution_count": 13,
     "metadata": {},
     "output_type": "execute_result"
    }
   ],
   "source": [
    "# Append a row to a matrix\n",
    "\"\"\"\n",
    "1 2 3       1 2 3\n",
    "4 5 6 -->   4 5 6\n",
    "7 8 9       7 8 9\n",
    "            0 0 0\n",
    "\"\"\"\n",
    "m = [[1, 2, 3], [4, 5, 6], [7, 8, 9]]\n",
    "b = np.zeros((1, 3))\n",
    "np.r_[m, b]"
   ]
  },
  {
   "cell_type": "code",
   "execution_count": null,
   "metadata": {},
   "outputs": [],
   "source": [
    "# Prepend a row to a matrix\n",
    "\"\"\"\n",
    "1 2 3       0 0 0\n",
    "4 5 6 -->   1 2 3\n",
    "7 8 9       4 5 6\n",
    "            7 8 9\n",
    "\"\"\"\n",
    "m = [[1, 2, 3], [4, 5, 6], [7, 8, 9]]\n",
    "b = np.zeros((1, 3))\n",
    "np.r_[b, m]"
   ]
  }
 ],
 "metadata": {
  "kernelspec": {
   "display_name": ".venv",
   "language": "python",
   "name": "python3"
  },
  "language_info": {
   "codemirror_mode": {
    "name": "ipython",
    "version": 3
   },
   "file_extension": ".py",
   "mimetype": "text/x-python",
   "name": "python",
   "nbconvert_exporter": "python",
   "pygments_lexer": "ipython3",
   "version": "3.10.14"
  },
  "orig_nbformat": 4
 },
 "nbformat": 4,
 "nbformat_minor": 2
}
