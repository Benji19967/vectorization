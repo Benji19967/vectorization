{
 "cells": [
  {
   "cell_type": "markdown",
   "metadata": {},
   "source": [
    "# Matrix operations with NumPy"
   ]
  },
  {
   "cell_type": "code",
   "execution_count": 33,
   "metadata": {},
   "outputs": [],
   "source": [
    "import numpy as np"
   ]
  },
  {
   "cell_type": "code",
   "execution_count": 34,
   "metadata": {},
   "outputs": [
    {
     "data": {
      "text/plain": [
       "array([[1., 2., 3., 0.],\n",
       "       [4., 5., 6., 0.],\n",
       "       [7., 8., 9., 0.]])"
      ]
     },
     "execution_count": 34,
     "metadata": {},
     "output_type": "execute_result"
    }
   ],
   "source": [
    "# Append a column to a matrix\n",
    "\"\"\"\n",
    "1 2 3       1 2 3 0\n",
    "4 5 6 -->   4 5 6 0\n",
    "7 8 9       7 8 9 0\n",
    "\"\"\"\n",
    "m = [[1, 2, 3], [4, 5, 6], [7, 8, 9]]\n",
    "b = np.zeros((3, 1))\n",
    "np.c_[m, b]"
   ]
  },
  {
   "cell_type": "code",
   "execution_count": 35,
   "metadata": {},
   "outputs": [
    {
     "data": {
      "text/plain": [
       "array([[0., 1., 2., 3.],\n",
       "       [0., 4., 5., 6.],\n",
       "       [0., 7., 8., 9.]])"
      ]
     },
     "execution_count": 35,
     "metadata": {},
     "output_type": "execute_result"
    }
   ],
   "source": [
    "# Prepend a column to a matrix\n",
    "\"\"\"\n",
    "1 2 3       0 1 2 3\n",
    "4 5 6 -->   0 4 5 6\n",
    "7 8 9       0 7 8 9\n",
    "\"\"\"\n",
    "m = [[1, 2, 3], [4, 5, 6], [7, 8, 9]]\n",
    "b = np.zeros((3, 1))\n",
    "np.c_[b, m]"
   ]
  },
  {
   "cell_type": "code",
   "execution_count": 36,
   "metadata": {},
   "outputs": [
    {
     "data": {
      "text/plain": [
       "array([[1., 2., 3.],\n",
       "       [4., 5., 6.],\n",
       "       [7., 8., 9.],\n",
       "       [0., 0., 0.]])"
      ]
     },
     "execution_count": 36,
     "metadata": {},
     "output_type": "execute_result"
    }
   ],
   "source": [
    "# Append a row to a matrix\n",
    "\"\"\"\n",
    "1 2 3       1 2 3\n",
    "4 5 6 -->   4 5 6\n",
    "7 8 9       7 8 9\n",
    "            0 0 0\n",
    "\"\"\"\n",
    "m = [[1, 2, 3], [4, 5, 6], [7, 8, 9]]\n",
    "b = np.zeros((1, 3))\n",
    "np.r_[m, b]"
   ]
  },
  {
   "cell_type": "code",
   "execution_count": 37,
   "metadata": {},
   "outputs": [
    {
     "data": {
      "text/plain": [
       "array([[0., 0., 0.],\n",
       "       [1., 2., 3.],\n",
       "       [4., 5., 6.],\n",
       "       [7., 8., 9.]])"
      ]
     },
     "execution_count": 37,
     "metadata": {},
     "output_type": "execute_result"
    }
   ],
   "source": [
    "# Prepend a row to a matrix\n",
    "\"\"\"\n",
    "1 2 3       0 0 0\n",
    "4 5 6 -->   1 2 3\n",
    "7 8 9       4 5 6\n",
    "            7 8 9\n",
    "\"\"\"\n",
    "m = [[1, 2, 3], [4, 5, 6], [7, 8, 9]]\n",
    "b = np.zeros((1, 3))\n",
    "np.r_[b, m]"
   ]
  },
  {
   "cell_type": "code",
   "execution_count": 38,
   "metadata": {},
   "outputs": [
    {
     "name": "stdout",
     "output_type": "stream",
     "text": [
      "[1 2 3]\n",
      "[4 5 6]\n",
      "[7 8 9]\n"
     ]
    }
   ],
   "source": [
    "# Iterate the rows of a matrix\n",
    "\"\"\"\n",
    "1 2 3\n",
    "4 5 6\n",
    "7 8 9\n",
    "\n",
    ">> \n",
    "[1, 2, 3]\n",
    "[4, 5, 6]\n",
    "[7, 8, 9]\n",
    "\"\"\"\n",
    "m = np.array([[1, 2, 3], [4, 5, 6], [7, 8, 9]])\n",
    "for row in m:\n",
    "    print(row)"
   ]
  },
  {
   "cell_type": "code",
   "execution_count": 39,
   "metadata": {},
   "outputs": [
    {
     "name": "stdout",
     "output_type": "stream",
     "text": [
      "[1 4 7]\n",
      "[2 5 8]\n",
      "[3 6 9]\n"
     ]
    }
   ],
   "source": [
    "# Iterate the rows of a matrix\n",
    "\"\"\"\n",
    "1 2 3\n",
    "4 5 6\n",
    "7 8 9\n",
    "\n",
    ">> \n",
    "[1, 4, 7]\n",
    "[2, 5, 8]\n",
    "[3, 6, 9]\n",
    "\"\"\"\n",
    "# Note: m.T is not costly -- \n",
    "# just changes the 'strides' of the array \n",
    "# (stride: number of elements successive before \n",
    "# next array element (sub-array))\n",
    "m = np.array([[1, 2, 3], [4, 5, 6], [7, 8, 9]])\n",
    "for col in m.T:\n",
    "    print(col)"
   ]
  },
  {
   "cell_type": "code",
   "execution_count": 40,
   "metadata": {},
   "outputs": [
    {
     "data": {
      "text/plain": [
       "(array([1, 2, 3]), array([7, 8, 9]))"
      ]
     },
     "execution_count": 40,
     "metadata": {},
     "output_type": "execute_result"
    }
   ],
   "source": [
    "# Get first/last row of a matrix\n",
    "\"\"\"\n",
    "1 2 3\n",
    "4 5 6\n",
    "7 8 9\n",
    "\n",
    ">>\n",
    "[1, 2, 3], [7, 8, 9]\n",
    "\"\"\"\n",
    "m = np.array([[1, 2, 3], [4, 5, 6], [7, 8, 9]])\n",
    "m[0], m[-1]  # or m[0, :], m[-1, :]"
   ]
  },
  {
   "cell_type": "code",
   "execution_count": 41,
   "metadata": {},
   "outputs": [
    {
     "data": {
      "text/plain": [
       "(array([1, 4, 7]), array([3, 6, 9]))"
      ]
     },
     "execution_count": 41,
     "metadata": {},
     "output_type": "execute_result"
    }
   ],
   "source": [
    "# Get first/last column of a matrix\n",
    "\"\"\"\n",
    "1 2 3\n",
    "4 5 6\n",
    "7 8 9\n",
    "\n",
    ">>\n",
    "[1, 4, 7], [3, 6, 9]\n",
    "\"\"\"\n",
    "m = np.array([[1, 2, 3], [4, 5, 6], [7, 8, 9]])\n",
    "m[:, 0], m[:, -1]"
   ]
  },
  {
   "cell_type": "code",
   "execution_count": 42,
   "metadata": {},
   "outputs": [
    {
     "data": {
      "text/plain": [
       "array([[0.5, 1. , 1.5],\n",
       "       [2. , 2.5, 3. ],\n",
       "       [3.5, 4. , 4.5]])"
      ]
     },
     "execution_count": 42,
     "metadata": {},
     "output_type": "execute_result"
    }
   ],
   "source": [
    "# What does divide by a scalar do?\n",
    "\"\"\"\n",
    "1 2 3\n",
    "4 5 6 / 2\n",
    "7 8 9\n",
    "\"\"\"\n",
    "# Divides all elements by the scalar\n",
    "m = np.array([[1, 2, 3], [4, 5, 6], [7, 8, 9]], dtype=np.int64)\n",
    "m / 2"
   ]
  },
  {
   "cell_type": "code",
   "execution_count": 43,
   "metadata": {},
   "outputs": [
    {
     "data": {
      "text/plain": [
       "array([[1. , 1. , 1. ],\n",
       "       [4. , 2.5, 2. ],\n",
       "       [7. , 4. , 3. ]])"
      ]
     },
     "execution_count": 43,
     "metadata": {},
     "output_type": "execute_result"
    }
   ],
   "source": [
    "# What does divide by a vector do?\n",
    "\"\"\"\n",
    "1 2 3\n",
    "4 5 6 / [1 , 2, 3]\n",
    "7 8 9\n",
    "\"\"\"\n",
    "# Divides by columns\n",
    "m = np.array([[1, 2, 3], [4, 5, 6], [7, 8, 9]], dtype=np.int64)\n",
    "m / [1, 2, 3]"
   ]
  },
  {
   "cell_type": "code",
   "execution_count": 44,
   "metadata": {},
   "outputs": [
    {
     "data": {
      "text/plain": [
       "array([[1, 0, 0],\n",
       "       [0, 2, 0],\n",
       "       [0, 0, 3]])"
      ]
     },
     "execution_count": 44,
     "metadata": {},
     "output_type": "execute_result"
    }
   ],
   "source": [
    "# How can you create a diagonal matrix from a vector?\n",
    "\"\"\"\n",
    "[1, 2, 3]\n",
    "->\n",
    "1 0 0\n",
    "0 2 0\n",
    "0 0 3\n",
    "\"\"\"\n",
    "np.diag([1, 2, 3])"
   ]
  },
  {
   "cell_type": "code",
   "execution_count": 48,
   "metadata": {},
   "outputs": [
    {
     "data": {
      "text/plain": [
       "np.int64(45)"
      ]
     },
     "execution_count": 48,
     "metadata": {},
     "output_type": "execute_result"
    }
   ],
   "source": [
    "# How do you compute the sum of all elements?\n",
    "\"\"\"\n",
    "1 2 3\n",
    "4 5 6\n",
    "7 8 9\n",
    "\n",
    ">> 45\n",
    "\"\"\"\n",
    "m = np.array([[1, 2, 3], [4, 5, 6], [7, 8, 9]])\n",
    "np.sum(m)"
   ]
  },
  {
   "cell_type": "code",
   "execution_count": 47,
   "metadata": {},
   "outputs": [
    {
     "data": {
      "text/plain": [
       "array([12, 15, 18])"
      ]
     },
     "execution_count": 47,
     "metadata": {},
     "output_type": "execute_result"
    }
   ],
   "source": [
    "# How do you compute the sum for each column?\n",
    "\"\"\"\n",
    "1 2 3\n",
    "4 5 6\n",
    "7 8 9\n",
    "\n",
    ">> [12, 15, 18]\n",
    "\"\"\"\n",
    "m = np.array([[1, 2, 3], [4, 5, 6], [7, 8, 9]])\n",
    "np.sum(m, axis=0)"
   ]
  },
  {
   "cell_type": "code",
   "execution_count": null,
   "metadata": {},
   "outputs": [
    {
     "data": {
      "text/plain": [
       "array([ 6, 15, 24])"
      ]
     },
     "metadata": {},
     "output_type": "display_data"
    }
   ],
   "source": [
    "# How do you compute the sum for each row?\n",
    "\"\"\"\n",
    "1 2 3\n",
    "4 5 6\n",
    "7 8 9\n",
    "\n",
    ">> [6, 15, 24]\n",
    "\"\"\"\n",
    "m = np.array([[1, 2, 3], [4, 5, 6], [7, 8, 9]])\n",
    "np.sum(m, axis=1)"
   ]
  },
  {
   "cell_type": "code",
   "execution_count": 52,
   "metadata": {},
   "outputs": [
    {
     "data": {
      "text/plain": [
       "array([[0, 0, 0],\n",
       "       [3, 3, 3],\n",
       "       [6, 6, 6]])"
      ]
     },
     "execution_count": 52,
     "metadata": {},
     "output_type": "execute_result"
    }
   ],
   "source": [
    "# What is the output?\n",
    "\"\"\"\n",
    "1 2 3\n",
    "4 5 6 - [1, 2, 3]\n",
    "7 8 9\n",
    "\"\"\"\n",
    "m = np.array([[1, 2, 3], [4, 5, 6], [7, 8, 9]])\n",
    "m - [1, 2, 3]"
   ]
  },
  {
   "cell_type": "code",
   "execution_count": 54,
   "metadata": {},
   "outputs": [
    {
     "data": {
      "text/plain": [
       "array([[-4.75, -0.75,  3.25,  2.25],\n",
       "       [-0.75,  3.25, -2.75,  0.25]])"
      ]
     },
     "execution_count": 54,
     "metadata": {},
     "output_type": "execute_result"
    }
   ],
   "source": [
    "# Let p be 2D points. \n",
    "# Calculate the centroid of the points, mu, \n",
    "# and subtract it from each point.\n",
    "\"\"\"\n",
    "1 5 9 8\n",
    "3 7 1 4\n",
    "\"\"\"\n",
    "p = np.array([[1, 5, 9, 8], [3, 7, 1, 4]])\n",
    "mu = np.mean(p, axis=1)\n",
    "(p.T - mu).T"
   ]
  },
  {
   "cell_type": "code",
   "execution_count": null,
   "metadata": {},
   "outputs": [],
   "source": []
  }
 ],
 "metadata": {
  "kernelspec": {
   "display_name": ".venv",
   "language": "python",
   "name": "python3"
  },
  "language_info": {
   "codemirror_mode": {
    "name": "ipython",
    "version": 3
   },
   "file_extension": ".py",
   "mimetype": "text/x-python",
   "name": "python",
   "nbconvert_exporter": "python",
   "pygments_lexer": "ipython3",
   "version": "3.10.14"
  },
  "orig_nbformat": 4
 },
 "nbformat": 4,
 "nbformat_minor": 2
}
