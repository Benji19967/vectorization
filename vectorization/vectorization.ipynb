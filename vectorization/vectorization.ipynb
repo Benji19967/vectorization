{
 "cells": [
  {
   "cell_type": "code",
   "execution_count": 5,
   "metadata": {
    "jukit_cell_id": "ZFveEQ8znr"
   },
   "outputs": [],
   "source": [
    "import json\n",
    "from pathlib import Path\n",
    "\n",
    "import numpy as np\n",
    "import pandas as pd\n",
    "\n",
    "FILES_DIR = \"../../housing/flatfox_listings\""
   ]
  },
  {
   "cell_type": "code",
   "execution_count": 6,
   "metadata": {
    "jukit_cell_id": "D0gKhO0ePX"
   },
   "outputs": [],
   "source": [
    "BASE_DIR = Path(FILES_DIR)\n",
    "listings_list = []\n",
    "for i in range(260):\n",
    "    with open(BASE_DIR.absolute() / f\"flatfox_listings_100_{i}.json\") as f:\n",
    "        data = json.loads(f.read())\n",
    "        for listing in data[\"results\"]:\n",
    "            listings_list.append(listing)"
   ]
  },
  {
   "cell_type": "code",
   "execution_count": 7,
   "metadata": {
    "jukit_cell_id": "ruGBabhFNt"
   },
   "outputs": [],
   "source": [
    "df = pd.DataFrame.from_dict(listings_list)"
   ]
  },
  {
   "cell_type": "code",
   "execution_count": 8,
   "metadata": {
    "jukit_cell_id": "xgfaMgMbzA"
   },
   "outputs": [
    {
     "data": {
      "text/html": [
       "<div>\n",
       "<style scoped>\n",
       "    .dataframe tbody tr th:only-of-type {\n",
       "        vertical-align: middle;\n",
       "    }\n",
       "\n",
       "    .dataframe tbody tr th {\n",
       "        vertical-align: top;\n",
       "    }\n",
       "\n",
       "    .dataframe thead th {\n",
       "        text-align: right;\n",
       "    }\n",
       "</style>\n",
       "<table border=\"1\" class=\"dataframe\">\n",
       "  <thead>\n",
       "    <tr style=\"text-align: right;\">\n",
       "      <th></th>\n",
       "      <th>pk</th>\n",
       "      <th>slug</th>\n",
       "      <th>url</th>\n",
       "      <th>short_url</th>\n",
       "      <th>submit_url</th>\n",
       "      <th>status</th>\n",
       "      <th>created</th>\n",
       "      <th>offer_type</th>\n",
       "      <th>object_category</th>\n",
       "      <th>object_type</th>\n",
       "      <th>...</th>\n",
       "      <th>tour_url</th>\n",
       "      <th>website_url</th>\n",
       "      <th>live_viewing_url</th>\n",
       "      <th>cover_image</th>\n",
       "      <th>images</th>\n",
       "      <th>documents</th>\n",
       "      <th>agency</th>\n",
       "      <th>reserved</th>\n",
       "      <th>rent_title</th>\n",
       "      <th>livingspace</th>\n",
       "    </tr>\n",
       "  </thead>\n",
       "  <tbody>\n",
       "    <tr>\n",
       "      <th>0</th>\n",
       "      <td>26706</td>\n",
       "      <td>parkstr-12-9430-st-margrethen-sg</td>\n",
       "      <td>/en/flat/parkstr-12-9430-st-margrethen-sg/26706/</td>\n",
       "      <td>/26706/</td>\n",
       "      <td>/en/listing/26706/submit/</td>\n",
       "      <td>act</td>\n",
       "      <td>2017-12-08T17:05:54.496849+01:00</td>\n",
       "      <td>RENT</td>\n",
       "      <td>INDUSTRY</td>\n",
       "      <td>OFFICE</td>\n",
       "      <td>...</td>\n",
       "      <td>None</td>\n",
       "      <td>None</td>\n",
       "      <td>None</td>\n",
       "      <td>6168251.0</td>\n",
       "      <td>[6168251, 6168252, 6168253, 6168254, 6168255, ...</td>\n",
       "      <td>[]</td>\n",
       "      <td>{'name': 'Schaeppi Grundstücke AG', 'name_2': ...</td>\n",
       "      <td>False</td>\n",
       "      <td>Rent a 127m² office in St. Margrethen SG</td>\n",
       "      <td>127.0</td>\n",
       "    </tr>\n",
       "    <tr>\n",
       "      <th>1</th>\n",
       "      <td>33819</td>\n",
       "      <td>martha-ringier-strasse-5600-lenzburg</td>\n",
       "      <td>/en/flat/martha-ringier-strasse-5600-lenzburg/...</td>\n",
       "      <td>/33819/</td>\n",
       "      <td>/en/listing/33819/submit/</td>\n",
       "      <td>act</td>\n",
       "      <td>2018-03-26T16:57:27.300926+02:00</td>\n",
       "      <td>RENT</td>\n",
       "      <td>PARK</td>\n",
       "      <td>GARAGE_SLOT</td>\n",
       "      <td>...</td>\n",
       "      <td>None</td>\n",
       "      <td>None</td>\n",
       "      <td>None</td>\n",
       "      <td>319437.0</td>\n",
       "      <td>[319437, 319438]</td>\n",
       "      <td>[]</td>\n",
       "      <td>{'name': 'Die Immobilien-Treuhänder', 'name_2'...</td>\n",
       "      <td>False</td>\n",
       "      <td>Rent a underground slot in Lenzburg</td>\n",
       "      <td>NaN</td>\n",
       "    </tr>\n",
       "    <tr>\n",
       "      <th>2</th>\n",
       "      <td>44676</td>\n",
       "      <td>sonnentalstrasse-10-8600-dubendorf</td>\n",
       "      <td>/en/flat/sonnentalstrasse-10-8600-dubendorf/44...</td>\n",
       "      <td>/44676/</td>\n",
       "      <td>/en/listing/44676/submit/</td>\n",
       "      <td>act</td>\n",
       "      <td>2018-08-03T09:03:30.396567+02:00</td>\n",
       "      <td>RENT</td>\n",
       "      <td>INDUSTRY</td>\n",
       "      <td>ATELIER</td>\n",
       "      <td>...</td>\n",
       "      <td></td>\n",
       "      <td></td>\n",
       "      <td></td>\n",
       "      <td>463033.0</td>\n",
       "      <td>[463033, 463034, 6880004]</td>\n",
       "      <td>[5996]</td>\n",
       "      <td>{'name': '', 'name_2': '', 'street': '', 'zipc...</td>\n",
       "      <td>False</td>\n",
       "      <td>Rent a 119m² atelier in Dübendorf</td>\n",
       "      <td>119.0</td>\n",
       "    </tr>\n",
       "    <tr>\n",
       "      <th>3</th>\n",
       "      <td>46167</td>\n",
       "      <td>waldstrasse-5-9008-st-gallen</td>\n",
       "      <td>/en/flat/waldstrasse-5-9008-st-gallen/46167/</td>\n",
       "      <td>/46167/</td>\n",
       "      <td>/en/listing/46167/submit/</td>\n",
       "      <td>act</td>\n",
       "      <td>2018-08-20T18:39:53.772772+02:00</td>\n",
       "      <td>RENT</td>\n",
       "      <td>APARTMENT</td>\n",
       "      <td>SINGLE_ROOM</td>\n",
       "      <td>...</td>\n",
       "      <td></td>\n",
       "      <td></td>\n",
       "      <td>None</td>\n",
       "      <td>483988.0</td>\n",
       "      <td>[483988, 483989, 483990, 483991, 483992, 483993]</td>\n",
       "      <td>[]</td>\n",
       "      <td>{'name': 'Home-Vermittlung Höhener', 'name_2':...</td>\n",
       "      <td>False</td>\n",
       "      <td>Rent a 1 room single room in St. Gallen</td>\n",
       "      <td>17.0</td>\n",
       "    </tr>\n",
       "    <tr>\n",
       "      <th>4</th>\n",
       "      <td>51159</td>\n",
       "      <td>8005-zurich</td>\n",
       "      <td>/en/flat/8005-zurich/51159/</td>\n",
       "      <td>/51159/</td>\n",
       "      <td>/en/listing/51159/submit/</td>\n",
       "      <td>act</td>\n",
       "      <td>2018-10-07T12:13:24.307367+02:00</td>\n",
       "      <td>RENT</td>\n",
       "      <td>SHARED</td>\n",
       "      <td>SHARED_FLAT</td>\n",
       "      <td>...</td>\n",
       "      <td></td>\n",
       "      <td></td>\n",
       "      <td>None</td>\n",
       "      <td>557032.0</td>\n",
       "      <td>[557032, 557031, 557033, 557035, 557036]</td>\n",
       "      <td>[]</td>\n",
       "      <td>{'name': '', 'name_2': None, 'street': None, '...</td>\n",
       "      <td>False</td>\n",
       "      <td>Rent a room in a shared flat in Zürich</td>\n",
       "      <td>18.0</td>\n",
       "    </tr>\n",
       "  </tbody>\n",
       "</table>\n",
       "<p>5 rows × 60 columns</p>\n",
       "</div>"
      ],
      "text/plain": [
       "      pk                                  slug  \\\n",
       "0  26706      parkstr-12-9430-st-margrethen-sg   \n",
       "1  33819  martha-ringier-strasse-5600-lenzburg   \n",
       "2  44676    sonnentalstrasse-10-8600-dubendorf   \n",
       "3  46167          waldstrasse-5-9008-st-gallen   \n",
       "4  51159                           8005-zurich   \n",
       "\n",
       "                                                 url short_url  \\\n",
       "0   /en/flat/parkstr-12-9430-st-margrethen-sg/26706/   /26706/   \n",
       "1  /en/flat/martha-ringier-strasse-5600-lenzburg/...   /33819/   \n",
       "2  /en/flat/sonnentalstrasse-10-8600-dubendorf/44...   /44676/   \n",
       "3       /en/flat/waldstrasse-5-9008-st-gallen/46167/   /46167/   \n",
       "4                        /en/flat/8005-zurich/51159/   /51159/   \n",
       "\n",
       "                  submit_url status                           created  \\\n",
       "0  /en/listing/26706/submit/    act  2017-12-08T17:05:54.496849+01:00   \n",
       "1  /en/listing/33819/submit/    act  2018-03-26T16:57:27.300926+02:00   \n",
       "2  /en/listing/44676/submit/    act  2018-08-03T09:03:30.396567+02:00   \n",
       "3  /en/listing/46167/submit/    act  2018-08-20T18:39:53.772772+02:00   \n",
       "4  /en/listing/51159/submit/    act  2018-10-07T12:13:24.307367+02:00   \n",
       "\n",
       "  offer_type object_category  object_type  ... tour_url website_url  \\\n",
       "0       RENT        INDUSTRY       OFFICE  ...     None        None   \n",
       "1       RENT            PARK  GARAGE_SLOT  ...     None        None   \n",
       "2       RENT        INDUSTRY      ATELIER  ...                        \n",
       "3       RENT       APARTMENT  SINGLE_ROOM  ...                        \n",
       "4       RENT          SHARED  SHARED_FLAT  ...                        \n",
       "\n",
       "  live_viewing_url cover_image  \\\n",
       "0             None   6168251.0   \n",
       "1             None    319437.0   \n",
       "2                     463033.0   \n",
       "3             None    483988.0   \n",
       "4             None    557032.0   \n",
       "\n",
       "                                              images  documents  \\\n",
       "0  [6168251, 6168252, 6168253, 6168254, 6168255, ...         []   \n",
       "1                                   [319437, 319438]         []   \n",
       "2                          [463033, 463034, 6880004]     [5996]   \n",
       "3   [483988, 483989, 483990, 483991, 483992, 483993]         []   \n",
       "4           [557032, 557031, 557033, 557035, 557036]         []   \n",
       "\n",
       "                                              agency reserved  \\\n",
       "0  {'name': 'Schaeppi Grundstücke AG', 'name_2': ...    False   \n",
       "1  {'name': 'Die Immobilien-Treuhänder', 'name_2'...    False   \n",
       "2  {'name': '', 'name_2': '', 'street': '', 'zipc...    False   \n",
       "3  {'name': 'Home-Vermittlung Höhener', 'name_2':...    False   \n",
       "4  {'name': '', 'name_2': None, 'street': None, '...    False   \n",
       "\n",
       "                                 rent_title  livingspace  \n",
       "0  Rent a 127m² office in St. Margrethen SG        127.0  \n",
       "1       Rent a underground slot in Lenzburg          NaN  \n",
       "2         Rent a 119m² atelier in Dübendorf        119.0  \n",
       "3   Rent a 1 room single room in St. Gallen         17.0  \n",
       "4    Rent a room in a shared flat in Zürich         18.0  \n",
       "\n",
       "[5 rows x 60 columns]"
      ]
     },
     "execution_count": 8,
     "metadata": {},
     "output_type": "execute_result"
    }
   ],
   "source": [
    "df.head()"
   ]
  },
  {
   "cell_type": "code",
   "execution_count": 9,
   "metadata": {
    "jukit_cell_id": "YwOajwF9lG"
   },
   "outputs": [
    {
     "data": {
      "text/plain": [
       "Index(['pk', 'slug', 'url', 'short_url', 'submit_url', 'status', 'created',\n",
       "       'offer_type', 'object_category', 'object_type', 'reference',\n",
       "       'ref_property', 'ref_house', 'ref_object', 'alternative_reference',\n",
       "       'price_display', 'price_display_type', 'price_unit', 'published',\n",
       "       'rent_net', 'rent_charges', 'rent_gross', 'short_title', 'public_title',\n",
       "       'pitch_title', 'description_title', 'description', 'surface_living',\n",
       "       'surface_property', 'surface_usable', 'surface_usable_minimum',\n",
       "       'volume', 'space_display', 'number_of_rooms', 'floor', 'attributes',\n",
       "       'is_furnished', 'is_temporary', 'is_selling_furniture', 'street',\n",
       "       'zipcode', 'city', 'public_address', 'latitude', 'longitude',\n",
       "       'year_built', 'year_renovated', 'moving_date_type', 'moving_date',\n",
       "       'video_url', 'tour_url', 'website_url', 'live_viewing_url',\n",
       "       'cover_image', 'images', 'documents', 'agency', 'reserved',\n",
       "       'rent_title', 'livingspace'],\n",
       "      dtype='object')"
      ]
     },
     "execution_count": 9,
     "metadata": {},
     "output_type": "execute_result"
    }
   ],
   "source": [
    "df.columns"
   ]
  },
  {
   "cell_type": "code",
   "execution_count": 10,
   "metadata": {
    "jukit_cell_id": "9ZvYP4lUEJ"
   },
   "outputs": [
    {
     "data": {
      "text/plain": [
       "pk             int64\n",
       "slug          object\n",
       "url           object\n",
       "short_url     object\n",
       "submit_url    object\n",
       "dtype: object"
      ]
     },
     "execution_count": 10,
     "metadata": {},
     "output_type": "execute_result"
    }
   ],
   "source": [
    "df.dtypes.head()"
   ]
  },
  {
   "cell_type": "code",
   "execution_count": 11,
   "metadata": {
    "jukit_cell_id": "b9lqgx8V1d"
   },
   "outputs": [
    {
     "data": {
      "text/html": [
       "<div>\n",
       "<style scoped>\n",
       "    .dataframe tbody tr th:only-of-type {\n",
       "        vertical-align: middle;\n",
       "    }\n",
       "\n",
       "    .dataframe tbody tr th {\n",
       "        vertical-align: top;\n",
       "    }\n",
       "\n",
       "    .dataframe thead th {\n",
       "        text-align: right;\n",
       "    }\n",
       "</style>\n",
       "<table border=\"1\" class=\"dataframe\">\n",
       "  <thead>\n",
       "    <tr style=\"text-align: right;\">\n",
       "      <th></th>\n",
       "      <th>pk</th>\n",
       "      <th>slug</th>\n",
       "      <th>url</th>\n",
       "      <th>short_url</th>\n",
       "      <th>submit_url</th>\n",
       "      <th>status</th>\n",
       "      <th>created</th>\n",
       "      <th>offer_type</th>\n",
       "      <th>object_category</th>\n",
       "      <th>object_type</th>\n",
       "      <th>...</th>\n",
       "      <th>tour_url</th>\n",
       "      <th>website_url</th>\n",
       "      <th>live_viewing_url</th>\n",
       "      <th>cover_image</th>\n",
       "      <th>images</th>\n",
       "      <th>documents</th>\n",
       "      <th>agency</th>\n",
       "      <th>reserved</th>\n",
       "      <th>rent_title</th>\n",
       "      <th>livingspace</th>\n",
       "    </tr>\n",
       "  </thead>\n",
       "  <tbody>\n",
       "    <tr>\n",
       "      <th>0</th>\n",
       "      <td>26706</td>\n",
       "      <td>parkstr-12-9430-st-margrethen-sg</td>\n",
       "      <td>/en/flat/parkstr-12-9430-st-margrethen-sg/26706/</td>\n",
       "      <td>/26706/</td>\n",
       "      <td>/en/listing/26706/submit/</td>\n",
       "      <td>act</td>\n",
       "      <td>2017-12-08T17:05:54.496849+01:00</td>\n",
       "      <td>RENT</td>\n",
       "      <td>INDUSTRY</td>\n",
       "      <td>OFFICE</td>\n",
       "      <td>...</td>\n",
       "      <td>None</td>\n",
       "      <td>None</td>\n",
       "      <td>None</td>\n",
       "      <td>6168251.0</td>\n",
       "      <td>[6168251, 6168252, 6168253, 6168254, 6168255, ...</td>\n",
       "      <td>[]</td>\n",
       "      <td>{'name': 'Schaeppi Grundstücke AG', 'name_2': ...</td>\n",
       "      <td>False</td>\n",
       "      <td>Rent a 127m² office in St. Margrethen SG</td>\n",
       "      <td>127.0</td>\n",
       "    </tr>\n",
       "  </tbody>\n",
       "</table>\n",
       "<p>1 rows × 60 columns</p>\n",
       "</div>"
      ],
      "text/plain": [
       "      pk                              slug  \\\n",
       "0  26706  parkstr-12-9430-st-margrethen-sg   \n",
       "\n",
       "                                                url short_url  \\\n",
       "0  /en/flat/parkstr-12-9430-st-margrethen-sg/26706/   /26706/   \n",
       "\n",
       "                  submit_url status                           created  \\\n",
       "0  /en/listing/26706/submit/    act  2017-12-08T17:05:54.496849+01:00   \n",
       "\n",
       "  offer_type object_category object_type  ... tour_url website_url  \\\n",
       "0       RENT        INDUSTRY      OFFICE  ...     None        None   \n",
       "\n",
       "  live_viewing_url cover_image  \\\n",
       "0             None   6168251.0   \n",
       "\n",
       "                                              images  documents  \\\n",
       "0  [6168251, 6168252, 6168253, 6168254, 6168255, ...         []   \n",
       "\n",
       "                                              agency reserved  \\\n",
       "0  {'name': 'Schaeppi Grundstücke AG', 'name_2': ...    False   \n",
       "\n",
       "                                 rent_title  livingspace  \n",
       "0  Rent a 127m² office in St. Margrethen SG        127.0  \n",
       "\n",
       "[1 rows x 60 columns]"
      ]
     },
     "execution_count": 11,
     "metadata": {},
     "output_type": "execute_result"
    }
   ],
   "source": [
    "df[df[\"pk\"] == 26706]"
   ]
  },
  {
   "cell_type": "code",
   "execution_count": 12,
   "metadata": {
    "jukit_cell_id": "elSfYd9HNi"
   },
   "outputs": [
    {
     "data": {
      "text/html": [
       "<div>\n",
       "<style scoped>\n",
       "    .dataframe tbody tr th:only-of-type {\n",
       "        vertical-align: middle;\n",
       "    }\n",
       "\n",
       "    .dataframe tbody tr th {\n",
       "        vertical-align: top;\n",
       "    }\n",
       "\n",
       "    .dataframe thead th {\n",
       "        text-align: right;\n",
       "    }\n",
       "</style>\n",
       "<table border=\"1\" class=\"dataframe\">\n",
       "  <thead>\n",
       "    <tr style=\"text-align: right;\">\n",
       "      <th></th>\n",
       "      <th>pk</th>\n",
       "      <th>slug</th>\n",
       "      <th>url</th>\n",
       "      <th>short_url</th>\n",
       "      <th>submit_url</th>\n",
       "      <th>status</th>\n",
       "      <th>created</th>\n",
       "      <th>offer_type</th>\n",
       "      <th>object_category</th>\n",
       "      <th>object_type</th>\n",
       "      <th>...</th>\n",
       "      <th>tour_url</th>\n",
       "      <th>website_url</th>\n",
       "      <th>live_viewing_url</th>\n",
       "      <th>cover_image</th>\n",
       "      <th>images</th>\n",
       "      <th>documents</th>\n",
       "      <th>agency</th>\n",
       "      <th>reserved</th>\n",
       "      <th>rent_title</th>\n",
       "      <th>livingspace</th>\n",
       "    </tr>\n",
       "  </thead>\n",
       "  <tbody>\n",
       "    <tr>\n",
       "      <th>2</th>\n",
       "      <td>44676</td>\n",
       "      <td>sonnentalstrasse-10-8600-dubendorf</td>\n",
       "      <td>/en/flat/sonnentalstrasse-10-8600-dubendorf/44...</td>\n",
       "      <td>/44676/</td>\n",
       "      <td>/en/listing/44676/submit/</td>\n",
       "      <td>act</td>\n",
       "      <td>2018-08-03T09:03:30.396567+02:00</td>\n",
       "      <td>RENT</td>\n",
       "      <td>INDUSTRY</td>\n",
       "      <td>ATELIER</td>\n",
       "      <td>...</td>\n",
       "      <td></td>\n",
       "      <td></td>\n",
       "      <td></td>\n",
       "      <td>463033.0</td>\n",
       "      <td>[463033, 463034, 6880004]</td>\n",
       "      <td>[5996]</td>\n",
       "      <td>{'name': '', 'name_2': '', 'street': '', 'zipc...</td>\n",
       "      <td>False</td>\n",
       "      <td>Rent a 119m² atelier in Dübendorf</td>\n",
       "      <td>119.0</td>\n",
       "    </tr>\n",
       "    <tr>\n",
       "      <th>5</th>\n",
       "      <td>51970</td>\n",
       "      <td>chemin-jean-pavillard-1009-pully</td>\n",
       "      <td>/en/flat/chemin-jean-pavillard-1009-pully/51970/</td>\n",
       "      <td>/51970/</td>\n",
       "      <td>/en/listing/51970/submit/</td>\n",
       "      <td>act</td>\n",
       "      <td>2018-10-14T13:29:17.457600+02:00</td>\n",
       "      <td>RENT</td>\n",
       "      <td>APARTMENT</td>\n",
       "      <td>APARTMENT</td>\n",
       "      <td>...</td>\n",
       "      <td></td>\n",
       "      <td></td>\n",
       "      <td>None</td>\n",
       "      <td>567711.0</td>\n",
       "      <td>[567711, 567706, 567708, 567707, 567709, 56771...</td>\n",
       "      <td>[]</td>\n",
       "      <td>{'name': '', 'name_2': None, 'street': None, '...</td>\n",
       "      <td>False</td>\n",
       "      <td>Rent a 5 rooms apartment in Pully</td>\n",
       "      <td>175.0</td>\n",
       "    </tr>\n",
       "    <tr>\n",
       "      <th>7</th>\n",
       "      <td>56908</td>\n",
       "      <td>beaumont-76-1010-lausanne</td>\n",
       "      <td>/en/flat/beaumont-76-1010-lausanne/56908/</td>\n",
       "      <td>/56908/</td>\n",
       "      <td>/en/listing/56908/submit/</td>\n",
       "      <td>act</td>\n",
       "      <td>2018-11-14T21:46:56.200043+01:00</td>\n",
       "      <td>RENT</td>\n",
       "      <td>APARTMENT</td>\n",
       "      <td>APARTMENT</td>\n",
       "      <td>...</td>\n",
       "      <td></td>\n",
       "      <td></td>\n",
       "      <td>None</td>\n",
       "      <td>621565.0</td>\n",
       "      <td>[621565, 621566, 621567, 621568, 621571, 62157...</td>\n",
       "      <td>[]</td>\n",
       "      <td>{'name': '', 'name_2': None, 'street': None, '...</td>\n",
       "      <td>False</td>\n",
       "      <td>Rent a 5 ½ rooms apartment in Lausanne</td>\n",
       "      <td>150.0</td>\n",
       "    </tr>\n",
       "    <tr>\n",
       "      <th>8</th>\n",
       "      <td>56960</td>\n",
       "      <td>loft-valangines-2000-neuchatel</td>\n",
       "      <td>/en/flat/loft-valangines-2000-neuchatel/56960/</td>\n",
       "      <td>/56960/</td>\n",
       "      <td>/en/listing/56960/submit/</td>\n",
       "      <td>act</td>\n",
       "      <td>2018-11-15T11:27:34.483607+01:00</td>\n",
       "      <td>RENT</td>\n",
       "      <td>APARTMENT</td>\n",
       "      <td>APARTMENT</td>\n",
       "      <td>...</td>\n",
       "      <td></td>\n",
       "      <td></td>\n",
       "      <td>None</td>\n",
       "      <td>622263.0</td>\n",
       "      <td>[622263, 622270, 622264, 622265, 622266, 62226...</td>\n",
       "      <td>[]</td>\n",
       "      <td>{'name': 'Saco Sa', 'name_2': None, 'street': ...</td>\n",
       "      <td>False</td>\n",
       "      <td>Rent a 2 ½ rooms apartment in Neuchâtel</td>\n",
       "      <td>145.0</td>\n",
       "    </tr>\n",
       "    <tr>\n",
       "      <th>9</th>\n",
       "      <td>58372</td>\n",
       "      <td>grand-rue-46-1297-founex</td>\n",
       "      <td>/en/flat/grand-rue-46-1297-founex/58372/</td>\n",
       "      <td>/58372/</td>\n",
       "      <td>/en/listing/58372/submit/</td>\n",
       "      <td>act</td>\n",
       "      <td>2018-11-27T13:51:46.877254+01:00</td>\n",
       "      <td>RENT</td>\n",
       "      <td>APARTMENT</td>\n",
       "      <td>APARTMENT</td>\n",
       "      <td>...</td>\n",
       "      <td></td>\n",
       "      <td></td>\n",
       "      <td>None</td>\n",
       "      <td>640551.0</td>\n",
       "      <td>[640551, 640552, 640553, 640554, 640555, 64055...</td>\n",
       "      <td>[]</td>\n",
       "      <td>{'name': None, 'name_2': None, 'street': None,...</td>\n",
       "      <td>False</td>\n",
       "      <td>Rent a 4 rooms apartment in Founex</td>\n",
       "      <td>110.0</td>\n",
       "    </tr>\n",
       "  </tbody>\n",
       "</table>\n",
       "<p>5 rows × 60 columns</p>\n",
       "</div>"
      ],
      "text/plain": [
       "      pk                                slug  \\\n",
       "2  44676  sonnentalstrasse-10-8600-dubendorf   \n",
       "5  51970    chemin-jean-pavillard-1009-pully   \n",
       "7  56908           beaumont-76-1010-lausanne   \n",
       "8  56960      loft-valangines-2000-neuchatel   \n",
       "9  58372            grand-rue-46-1297-founex   \n",
       "\n",
       "                                                 url short_url  \\\n",
       "2  /en/flat/sonnentalstrasse-10-8600-dubendorf/44...   /44676/   \n",
       "5   /en/flat/chemin-jean-pavillard-1009-pully/51970/   /51970/   \n",
       "7          /en/flat/beaumont-76-1010-lausanne/56908/   /56908/   \n",
       "8     /en/flat/loft-valangines-2000-neuchatel/56960/   /56960/   \n",
       "9           /en/flat/grand-rue-46-1297-founex/58372/   /58372/   \n",
       "\n",
       "                  submit_url status                           created  \\\n",
       "2  /en/listing/44676/submit/    act  2018-08-03T09:03:30.396567+02:00   \n",
       "5  /en/listing/51970/submit/    act  2018-10-14T13:29:17.457600+02:00   \n",
       "7  /en/listing/56908/submit/    act  2018-11-14T21:46:56.200043+01:00   \n",
       "8  /en/listing/56960/submit/    act  2018-11-15T11:27:34.483607+01:00   \n",
       "9  /en/listing/58372/submit/    act  2018-11-27T13:51:46.877254+01:00   \n",
       "\n",
       "  offer_type object_category object_type  ... tour_url website_url  \\\n",
       "2       RENT        INDUSTRY     ATELIER  ...                        \n",
       "5       RENT       APARTMENT   APARTMENT  ...                        \n",
       "7       RENT       APARTMENT   APARTMENT  ...                        \n",
       "8       RENT       APARTMENT   APARTMENT  ...                        \n",
       "9       RENT       APARTMENT   APARTMENT  ...                        \n",
       "\n",
       "  live_viewing_url cover_image  \\\n",
       "2                     463033.0   \n",
       "5             None    567711.0   \n",
       "7             None    621565.0   \n",
       "8             None    622263.0   \n",
       "9             None    640551.0   \n",
       "\n",
       "                                              images  documents  \\\n",
       "2                          [463033, 463034, 6880004]     [5996]   \n",
       "5  [567711, 567706, 567708, 567707, 567709, 56771...         []   \n",
       "7  [621565, 621566, 621567, 621568, 621571, 62157...         []   \n",
       "8  [622263, 622270, 622264, 622265, 622266, 62226...         []   \n",
       "9  [640551, 640552, 640553, 640554, 640555, 64055...         []   \n",
       "\n",
       "                                              agency reserved  \\\n",
       "2  {'name': '', 'name_2': '', 'street': '', 'zipc...    False   \n",
       "5  {'name': '', 'name_2': None, 'street': None, '...    False   \n",
       "7  {'name': '', 'name_2': None, 'street': None, '...    False   \n",
       "8  {'name': 'Saco Sa', 'name_2': None, 'street': ...    False   \n",
       "9  {'name': None, 'name_2': None, 'street': None,...    False   \n",
       "\n",
       "                                rent_title  livingspace  \n",
       "2        Rent a 119m² atelier in Dübendorf        119.0  \n",
       "5        Rent a 5 rooms apartment in Pully        175.0  \n",
       "7   Rent a 5 ½ rooms apartment in Lausanne        150.0  \n",
       "8  Rent a 2 ½ rooms apartment in Neuchâtel        145.0  \n",
       "9       Rent a 4 rooms apartment in Founex        110.0  \n",
       "\n",
       "[5 rows x 60 columns]"
      ]
     },
     "execution_count": 12,
     "metadata": {},
     "output_type": "execute_result"
    }
   ],
   "source": [
    "df[df[\"rent_net\"] > 1000].head()"
   ]
  },
  {
   "cell_type": "code",
   "execution_count": 6,
   "metadata": {
    "jukit_cell_id": "LKHVGKzyE1"
   },
   "outputs": [
    {
     "name": "stdout",
     "output_type": "stream",
     "text": [
      "2.9 ms ± 57.1 µs per loop (mean ± std. dev. of 7 runs, 100 loops each)\n"
     ]
    }
   ],
   "source": [
    "%%timeit\n",
    "# Select all rows with \"offer_type\" == \"RENT\" and \"rent_net\" > 3000\n",
    "df[(df[\"offer_type\"] == \"RENT\") & (df[\"rent_net\"] > 3000)].head()"
   ]
  },
  {
   "cell_type": "code",
   "execution_count": 7,
   "metadata": {
    "jukit_cell_id": "5musZBUe16"
   },
   "outputs": [
    {
     "name": "stdout",
     "output_type": "stream",
     "text": [
      "1.64 ms ± 53.2 µs per loop (mean ± std. dev. of 7 runs, 1,000 loops each)\n"
     ]
    }
   ],
   "source": [
    "%%timeit\n",
    "# Select all rows with \"offer_type\" == \"RENT\" and \"rent_net\" > 3000\n",
    "df[(df[\"offer_type\"].values == \"RENT\") & (df[\"rent_net\"].values > 3000)].head()"
   ]
  },
  {
   "cell_type": "markdown",
   "metadata": {
    "jukit_cell_id": "2GNivXrRj6"
   },
   "source": [
    "# Possible Interview Questions\n",
    "\n",
    "https://www.mlstack.cafe/blog/pandas-python-interview-questions"
   ]
  },
  {
   "cell_type": "markdown",
   "metadata": {
    "jukit_cell_id": "5L5zYltJbx"
   },
   "source": [
    "### 1. Create new columns from existing columns"
   ]
  },
  {
   "cell_type": "code",
   "execution_count": 13,
   "metadata": {},
   "outputs": [],
   "source": [
    "df[\"rent_net_cents\"] = df[\"rent_net\"] * 100"
   ]
  },
  {
   "cell_type": "markdown",
   "metadata": {},
   "source": [
    "### 2. Transform boolean column to 1 / 0 columns"
   ]
  },
  {
   "cell_type": "code",
   "execution_count": 14,
   "metadata": {},
   "outputs": [],
   "source": [
    "df[\"reserved_one_zero\"] = df[\"reserved\"].astype(int) "
   ]
  },
  {
   "cell_type": "markdown",
   "metadata": {},
   "source": [
    "### 3. How do you get the names of columns in a DataFrame?"
   ]
  },
  {
   "cell_type": "code",
   "execution_count": 26,
   "metadata": {},
   "outputs": [
    {
     "data": {
      "text/plain": [
       "['pk',\n",
       " 'slug',\n",
       " 'url',\n",
       " 'short_url',\n",
       " 'submit_url',\n",
       " 'status',\n",
       " 'created',\n",
       " 'offer_type',\n",
       " 'object_category',\n",
       " 'object_type',\n",
       " 'reference',\n",
       " 'ref_property',\n",
       " 'ref_house',\n",
       " 'ref_object',\n",
       " 'alternative_reference',\n",
       " 'price_display',\n",
       " 'price_display_type',\n",
       " 'price_unit',\n",
       " 'published',\n",
       " 'rent_net',\n",
       " 'rent_charges',\n",
       " 'rent_gross',\n",
       " 'short_title',\n",
       " 'public_title',\n",
       " 'pitch_title',\n",
       " 'description_title',\n",
       " 'description',\n",
       " 'surface_living',\n",
       " 'surface_property',\n",
       " 'surface_usable',\n",
       " 'surface_usable_minimum',\n",
       " 'volume',\n",
       " 'space_display',\n",
       " 'number_of_rooms',\n",
       " 'floor',\n",
       " 'attributes',\n",
       " 'is_furnished',\n",
       " 'is_temporary',\n",
       " 'is_selling_furniture',\n",
       " 'street',\n",
       " 'zipcode',\n",
       " 'city',\n",
       " 'public_address',\n",
       " 'latitude',\n",
       " 'longitude',\n",
       " 'year_built',\n",
       " 'year_renovated',\n",
       " 'moving_date_type',\n",
       " 'moving_date',\n",
       " 'video_url',\n",
       " 'tour_url',\n",
       " 'website_url',\n",
       " 'live_viewing_url',\n",
       " 'cover_image',\n",
       " 'images',\n",
       " 'documents',\n",
       " 'agency',\n",
       " 'reserved',\n",
       " 'rent_title',\n",
       " 'livingspace',\n",
       " 'rent_net_cents',\n",
       " 'reserved_one_zero']"
      ]
     },
     "execution_count": 26,
     "metadata": {},
     "output_type": "execute_result"
    }
   ],
   "source": [
    "list(df.columns)\n",
    "# sorted(df)"
   ]
  },
  {
   "cell_type": "markdown",
   "metadata": {},
   "source": [
    "### 4. How are `iloc` and `loc` different?"
   ]
  },
  {
   "cell_type": "code",
   "execution_count": 36,
   "metadata": {},
   "outputs": [],
   "source": [
    "# `iloc` is an integer based position locator\n",
    "# `loc` get rows and columns based on a particular label"
   ]
  },
  {
   "cell_type": "code",
   "execution_count": 30,
   "metadata": {},
   "outputs": [
    {
     "data": {
      "text/plain": [
       "pk                                                              26706\n",
       "slug                                 parkstr-12-9430-st-margrethen-sg\n",
       "url                  /en/flat/parkstr-12-9430-st-margrethen-sg/26706/\n",
       "short_url                                                     /26706/\n",
       "submit_url                                  /en/listing/26706/submit/\n",
       "                                           ...                       \n",
       "reserved                                                        False\n",
       "rent_title                   Rent a 127m² office in St. Margrethen SG\n",
       "livingspace                                                     127.0\n",
       "rent_net_cents                                                    NaN\n",
       "reserved_one_zero                                                   0\n",
       "Name: 0, Length: 62, dtype: object"
      ]
     },
     "execution_count": 30,
     "metadata": {},
     "output_type": "execute_result"
    }
   ],
   "source": [
    "df.iloc[0]"
   ]
  },
  {
   "cell_type": "code",
   "execution_count": 41,
   "metadata": {},
   "outputs": [
    {
     "data": {
      "text/html": [
       "<div>\n",
       "<style scoped>\n",
       "    .dataframe tbody tr th:only-of-type {\n",
       "        vertical-align: middle;\n",
       "    }\n",
       "\n",
       "    .dataframe tbody tr th {\n",
       "        vertical-align: top;\n",
       "    }\n",
       "\n",
       "    .dataframe thead th {\n",
       "        text-align: right;\n",
       "    }\n",
       "</style>\n",
       "<table border=\"1\" class=\"dataframe\">\n",
       "  <thead>\n",
       "    <tr style=\"text-align: right;\">\n",
       "      <th></th>\n",
       "      <th>pk</th>\n",
       "      <th>slug</th>\n",
       "      <th>url</th>\n",
       "      <th>short_url</th>\n",
       "      <th>submit_url</th>\n",
       "      <th>status</th>\n",
       "      <th>created</th>\n",
       "      <th>offer_type</th>\n",
       "      <th>object_category</th>\n",
       "      <th>object_type</th>\n",
       "      <th>...</th>\n",
       "      <th>live_viewing_url</th>\n",
       "      <th>cover_image</th>\n",
       "      <th>images</th>\n",
       "      <th>documents</th>\n",
       "      <th>agency</th>\n",
       "      <th>reserved</th>\n",
       "      <th>rent_title</th>\n",
       "      <th>livingspace</th>\n",
       "      <th>rent_net_cents</th>\n",
       "      <th>reserved_one_zero</th>\n",
       "    </tr>\n",
       "  </thead>\n",
       "  <tbody>\n",
       "    <tr>\n",
       "      <th>25949</th>\n",
       "      <td>1032168</td>\n",
       "      <td>1522-lucens</td>\n",
       "      <td>/en/flat/1522-lucens/1032168/</td>\n",
       "      <td>/1032168/</td>\n",
       "      <td>/en/listing/1032168/submit/</td>\n",
       "      <td>act</td>\n",
       "      <td>2023-11-19T00:15:01.212329+01:00</td>\n",
       "      <td>RENT</td>\n",
       "      <td>APARTMENT</td>\n",
       "      <td>APARTMENT</td>\n",
       "      <td>...</td>\n",
       "      <td>None</td>\n",
       "      <td>7911682.0</td>\n",
       "      <td>[7911682, 7911683, 7911684, 7911685, 7911686, ...</td>\n",
       "      <td>[]</td>\n",
       "      <td>{'name': 'LCR Immo', 'name_2': 'lcr-immo.ch', ...</td>\n",
       "      <td>False</td>\n",
       "      <td>Rent a 4 ½ rooms apartment in Lucens</td>\n",
       "      <td>100.0</td>\n",
       "      <td>170000.0</td>\n",
       "      <td>0</td>\n",
       "    </tr>\n",
       "    <tr>\n",
       "      <th>25950</th>\n",
       "      <td>1032169</td>\n",
       "      <td>1700-fribourg</td>\n",
       "      <td>/en/flat/1700-fribourg/1032169/</td>\n",
       "      <td>/1032169/</td>\n",
       "      <td>/en/listing/1032169/submit/</td>\n",
       "      <td>act</td>\n",
       "      <td>2023-11-19T00:15:03.338004+01:00</td>\n",
       "      <td>RENT</td>\n",
       "      <td>APARTMENT</td>\n",
       "      <td>APARTMENT</td>\n",
       "      <td>...</td>\n",
       "      <td>None</td>\n",
       "      <td>7911693.0</td>\n",
       "      <td>[7911693, 7911694, 7911695, 7911696, 7911697, ...</td>\n",
       "      <td>[]</td>\n",
       "      <td>{'name': 'LCR Immo', 'name_2': 'lcr-immo.ch', ...</td>\n",
       "      <td>False</td>\n",
       "      <td>Rent a 4 ½ rooms apartment in Fribourg</td>\n",
       "      <td>108.0</td>\n",
       "      <td>220000.0</td>\n",
       "      <td>0</td>\n",
       "    </tr>\n",
       "    <tr>\n",
       "      <th>25951</th>\n",
       "      <td>1032170</td>\n",
       "      <td>2034-peseux</td>\n",
       "      <td>/en/flat/2034-peseux/1032170/</td>\n",
       "      <td>/1032170/</td>\n",
       "      <td>/en/listing/1032170/submit/</td>\n",
       "      <td>act</td>\n",
       "      <td>2023-11-19T00:15:05.487716+01:00</td>\n",
       "      <td>RENT</td>\n",
       "      <td>APARTMENT</td>\n",
       "      <td>APARTMENT</td>\n",
       "      <td>...</td>\n",
       "      <td>None</td>\n",
       "      <td>7911705.0</td>\n",
       "      <td>[7911705, 7911706, 7911707, 7911708, 7911709, ...</td>\n",
       "      <td>[]</td>\n",
       "      <td>{'name': 'LCR Immo', 'name_2': 'lcr-immo.ch', ...</td>\n",
       "      <td>False</td>\n",
       "      <td>Rent a 4 ½ rooms apartment in Peseux</td>\n",
       "      <td>96.0</td>\n",
       "      <td>185000.0</td>\n",
       "      <td>0</td>\n",
       "    </tr>\n",
       "    <tr>\n",
       "      <th>25952</th>\n",
       "      <td>1032171</td>\n",
       "      <td>1263-crassier</td>\n",
       "      <td>/en/flat/1263-crassier/1032171/</td>\n",
       "      <td>/1032171/</td>\n",
       "      <td>/en/listing/1032171/submit/</td>\n",
       "      <td>act</td>\n",
       "      <td>2023-11-19T00:15:09.585666+01:00</td>\n",
       "      <td>RENT</td>\n",
       "      <td>HOUSE</td>\n",
       "      <td>SINGLE_HOUSE</td>\n",
       "      <td>...</td>\n",
       "      <td>None</td>\n",
       "      <td>7911717.0</td>\n",
       "      <td>[7911717, 7911718, 7911719, 7911720, 7911721, ...</td>\n",
       "      <td>[]</td>\n",
       "      <td>{'name': 'LCR Immo', 'name_2': 'lcr-immo.ch', ...</td>\n",
       "      <td>False</td>\n",
       "      <td>Rent a 5 rooms single house in Crassier</td>\n",
       "      <td>180.0</td>\n",
       "      <td>430000.0</td>\n",
       "      <td>0</td>\n",
       "    </tr>\n",
       "    <tr>\n",
       "      <th>25953</th>\n",
       "      <td>1032196</td>\n",
       "      <td>auf-anfrage-8226-schleitheim</td>\n",
       "      <td>/en/flat/auf-anfrage-8226-schleitheim/1032196/</td>\n",
       "      <td>/1032196/</td>\n",
       "      <td>/en/listing/1032196/submit/</td>\n",
       "      <td>act</td>\n",
       "      <td>2023-11-19T01:17:36.938514+01:00</td>\n",
       "      <td>SALE</td>\n",
       "      <td>PROPERTY</td>\n",
       "      <td>BUILDING_LAND</td>\n",
       "      <td>...</td>\n",
       "      <td>None</td>\n",
       "      <td>7911943.0</td>\n",
       "      <td>[7911943, 7911944, 7911945, 7911946, 7911947]</td>\n",
       "      <td>[]</td>\n",
       "      <td>{'name': 'Immo Station AG', 'name_2': None, 's...</td>\n",
       "      <td>False</td>\n",
       "      <td>Buy a 2242m² building land in Schleitheim</td>\n",
       "      <td>2242.0</td>\n",
       "      <td>NaN</td>\n",
       "      <td>0</td>\n",
       "    </tr>\n",
       "  </tbody>\n",
       "</table>\n",
       "<p>5 rows × 62 columns</p>\n",
       "</div>"
      ],
      "text/plain": [
       "            pk                          slug  \\\n",
       "25949  1032168                   1522-lucens   \n",
       "25950  1032169                 1700-fribourg   \n",
       "25951  1032170                   2034-peseux   \n",
       "25952  1032171                 1263-crassier   \n",
       "25953  1032196  auf-anfrage-8226-schleitheim   \n",
       "\n",
       "                                                  url  short_url  \\\n",
       "25949                   /en/flat/1522-lucens/1032168/  /1032168/   \n",
       "25950                 /en/flat/1700-fribourg/1032169/  /1032169/   \n",
       "25951                   /en/flat/2034-peseux/1032170/  /1032170/   \n",
       "25952                 /en/flat/1263-crassier/1032171/  /1032171/   \n",
       "25953  /en/flat/auf-anfrage-8226-schleitheim/1032196/  /1032196/   \n",
       "\n",
       "                        submit_url status                           created  \\\n",
       "25949  /en/listing/1032168/submit/    act  2023-11-19T00:15:01.212329+01:00   \n",
       "25950  /en/listing/1032169/submit/    act  2023-11-19T00:15:03.338004+01:00   \n",
       "25951  /en/listing/1032170/submit/    act  2023-11-19T00:15:05.487716+01:00   \n",
       "25952  /en/listing/1032171/submit/    act  2023-11-19T00:15:09.585666+01:00   \n",
       "25953  /en/listing/1032196/submit/    act  2023-11-19T01:17:36.938514+01:00   \n",
       "\n",
       "      offer_type object_category    object_type  ... live_viewing_url  \\\n",
       "25949       RENT       APARTMENT      APARTMENT  ...             None   \n",
       "25950       RENT       APARTMENT      APARTMENT  ...             None   \n",
       "25951       RENT       APARTMENT      APARTMENT  ...             None   \n",
       "25952       RENT           HOUSE   SINGLE_HOUSE  ...             None   \n",
       "25953       SALE        PROPERTY  BUILDING_LAND  ...             None   \n",
       "\n",
       "      cover_image                                             images  \\\n",
       "25949   7911682.0  [7911682, 7911683, 7911684, 7911685, 7911686, ...   \n",
       "25950   7911693.0  [7911693, 7911694, 7911695, 7911696, 7911697, ...   \n",
       "25951   7911705.0  [7911705, 7911706, 7911707, 7911708, 7911709, ...   \n",
       "25952   7911717.0  [7911717, 7911718, 7911719, 7911720, 7911721, ...   \n",
       "25953   7911943.0      [7911943, 7911944, 7911945, 7911946, 7911947]   \n",
       "\n",
       "      documents                                             agency  reserved  \\\n",
       "25949        []  {'name': 'LCR Immo', 'name_2': 'lcr-immo.ch', ...     False   \n",
       "25950        []  {'name': 'LCR Immo', 'name_2': 'lcr-immo.ch', ...     False   \n",
       "25951        []  {'name': 'LCR Immo', 'name_2': 'lcr-immo.ch', ...     False   \n",
       "25952        []  {'name': 'LCR Immo', 'name_2': 'lcr-immo.ch', ...     False   \n",
       "25953        []  {'name': 'Immo Station AG', 'name_2': None, 's...     False   \n",
       "\n",
       "                                      rent_title livingspace rent_net_cents  \\\n",
       "25949       Rent a 4 ½ rooms apartment in Lucens       100.0       170000.0   \n",
       "25950     Rent a 4 ½ rooms apartment in Fribourg       108.0       220000.0   \n",
       "25951       Rent a 4 ½ rooms apartment in Peseux        96.0       185000.0   \n",
       "25952    Rent a 5 rooms single house in Crassier       180.0       430000.0   \n",
       "25953  Buy a 2242m² building land in Schleitheim      2242.0            NaN   \n",
       "\n",
       "       reserved_one_zero  \n",
       "25949                  0  \n",
       "25950                  0  \n",
       "25951                  0  \n",
       "25952                  0  \n",
       "25953                  0  \n",
       "\n",
       "[5 rows x 62 columns]"
      ]
     },
     "execution_count": 41,
     "metadata": {},
     "output_type": "execute_result"
    }
   ],
   "source": [
    "df.iloc[-5:] # get last 5 rows"
   ]
  },
  {
   "cell_type": "code",
   "execution_count": 33,
   "metadata": {},
   "outputs": [
    {
     "data": {
      "text/plain": [
       "0         /en/flat/parkstr-12-9430-st-margrethen-sg/26706/\n",
       "1        /en/flat/martha-ringier-strasse-5600-lenzburg/...\n",
       "2        /en/flat/sonnentalstrasse-10-8600-dubendorf/44...\n",
       "3             /en/flat/waldstrasse-5-9008-st-gallen/46167/\n",
       "4                              /en/flat/8005-zurich/51159/\n",
       "                               ...                        \n",
       "25949                        /en/flat/1522-lucens/1032168/\n",
       "25950                      /en/flat/1700-fribourg/1032169/\n",
       "25951                        /en/flat/2034-peseux/1032170/\n",
       "25952                      /en/flat/1263-crassier/1032171/\n",
       "25953       /en/flat/auf-anfrage-8226-schleitheim/1032196/\n",
       "Name: url, Length: 25954, dtype: object"
      ]
     },
     "execution_count": 33,
     "metadata": {},
     "output_type": "execute_result"
    }
   ],
   "source": [
    "df.iloc[:,2] # get all rows and second column"
   ]
  },
  {
   "cell_type": "code",
   "execution_count": 35,
   "metadata": {},
   "outputs": [
    {
     "data": {
      "text/html": [
       "<div>\n",
       "<style scoped>\n",
       "    .dataframe tbody tr th:only-of-type {\n",
       "        vertical-align: middle;\n",
       "    }\n",
       "\n",
       "    .dataframe tbody tr th {\n",
       "        vertical-align: top;\n",
       "    }\n",
       "\n",
       "    .dataframe thead th {\n",
       "        text-align: right;\n",
       "    }\n",
       "</style>\n",
       "<table border=\"1\" class=\"dataframe\">\n",
       "  <thead>\n",
       "    <tr style=\"text-align: right;\">\n",
       "      <th></th>\n",
       "      <th>pk</th>\n",
       "      <th>slug</th>\n",
       "      <th>url</th>\n",
       "    </tr>\n",
       "  </thead>\n",
       "  <tbody>\n",
       "    <tr>\n",
       "      <th>0</th>\n",
       "      <td>26706</td>\n",
       "      <td>parkstr-12-9430-st-margrethen-sg</td>\n",
       "      <td>/en/flat/parkstr-12-9430-st-margrethen-sg/26706/</td>\n",
       "    </tr>\n",
       "    <tr>\n",
       "      <th>1</th>\n",
       "      <td>33819</td>\n",
       "      <td>martha-ringier-strasse-5600-lenzburg</td>\n",
       "      <td>/en/flat/martha-ringier-strasse-5600-lenzburg/...</td>\n",
       "    </tr>\n",
       "    <tr>\n",
       "      <th>2</th>\n",
       "      <td>44676</td>\n",
       "      <td>sonnentalstrasse-10-8600-dubendorf</td>\n",
       "      <td>/en/flat/sonnentalstrasse-10-8600-dubendorf/44...</td>\n",
       "    </tr>\n",
       "  </tbody>\n",
       "</table>\n",
       "</div>"
      ],
      "text/plain": [
       "      pk                                  slug  \\\n",
       "0  26706      parkstr-12-9430-st-margrethen-sg   \n",
       "1  33819  martha-ringier-strasse-5600-lenzburg   \n",
       "2  44676    sonnentalstrasse-10-8600-dubendorf   \n",
       "\n",
       "                                                 url  \n",
       "0   /en/flat/parkstr-12-9430-st-margrethen-sg/26706/  \n",
       "1  /en/flat/martha-ringier-strasse-5600-lenzburg/...  \n",
       "2  /en/flat/sonnentalstrasse-10-8600-dubendorf/44...  "
      ]
     },
     "execution_count": 35,
     "metadata": {},
     "output_type": "execute_result"
    }
   ],
   "source": [
    "df.iloc[:3,:3] # get the upper left 3x3 entries"
   ]
  },
  {
   "cell_type": "code",
   "execution_count": 40,
   "metadata": {},
   "outputs": [
    {
     "data": {
      "text/plain": [
       "pk                                                              26706\n",
       "slug                                 parkstr-12-9430-st-margrethen-sg\n",
       "url                  /en/flat/parkstr-12-9430-st-margrethen-sg/26706/\n",
       "short_url                                                     /26706/\n",
       "submit_url                                  /en/listing/26706/submit/\n",
       "                                           ...                       \n",
       "reserved                                                        False\n",
       "rent_title                   Rent a 127m² office in St. Margrethen SG\n",
       "livingspace                                                     127.0\n",
       "rent_net_cents                                                    NaN\n",
       "reserved_one_zero                                                   0\n",
       "Name: 0, Length: 62, dtype: object"
      ]
     },
     "execution_count": 40,
     "metadata": {},
     "output_type": "execute_result"
    }
   ],
   "source": [
    "df.loc[0] # here 0 is one of the values in the index"
   ]
  },
  {
   "cell_type": "code",
   "execution_count": 42,
   "metadata": {},
   "outputs": [
    {
     "data": {
      "text/plain": [
       "0         /en/flat/parkstr-12-9430-st-margrethen-sg/26706/\n",
       "1        /en/flat/martha-ringier-strasse-5600-lenzburg/...\n",
       "2        /en/flat/sonnentalstrasse-10-8600-dubendorf/44...\n",
       "3             /en/flat/waldstrasse-5-9008-st-gallen/46167/\n",
       "4                              /en/flat/8005-zurich/51159/\n",
       "                               ...                        \n",
       "25949                        /en/flat/1522-lucens/1032168/\n",
       "25950                      /en/flat/1700-fribourg/1032169/\n",
       "25951                        /en/flat/2034-peseux/1032170/\n",
       "25952                      /en/flat/1263-crassier/1032171/\n",
       "25953       /en/flat/auf-anfrage-8226-schleitheim/1032196/\n",
       "Name: url, Length: 25954, dtype: object"
      ]
     },
     "execution_count": 42,
     "metadata": {},
     "output_type": "execute_result"
    }
   ],
   "source": [
    "df.loc[:,\"url\"]"
   ]
  },
  {
   "cell_type": "code",
   "execution_count": 44,
   "metadata": {},
   "outputs": [
    {
     "data": {
      "text/html": [
       "<div>\n",
       "<style scoped>\n",
       "    .dataframe tbody tr th:only-of-type {\n",
       "        vertical-align: middle;\n",
       "    }\n",
       "\n",
       "    .dataframe tbody tr th {\n",
       "        vertical-align: top;\n",
       "    }\n",
       "\n",
       "    .dataframe thead th {\n",
       "        text-align: right;\n",
       "    }\n",
       "</style>\n",
       "<table border=\"1\" class=\"dataframe\">\n",
       "  <thead>\n",
       "    <tr style=\"text-align: right;\">\n",
       "      <th></th>\n",
       "      <th>rent_title</th>\n",
       "      <th>livingspace</th>\n",
       "      <th>rent_net_cents</th>\n",
       "      <th>reserved_one_zero</th>\n",
       "    </tr>\n",
       "  </thead>\n",
       "  <tbody>\n",
       "    <tr>\n",
       "      <th>0</th>\n",
       "      <td>Rent a 127m² office in St. Margrethen SG</td>\n",
       "      <td>127.0</td>\n",
       "      <td>NaN</td>\n",
       "      <td>0</td>\n",
       "    </tr>\n",
       "    <tr>\n",
       "      <th>1</th>\n",
       "      <td>Rent a underground slot in Lenzburg</td>\n",
       "      <td>NaN</td>\n",
       "      <td>13000.0</td>\n",
       "      <td>0</td>\n",
       "    </tr>\n",
       "    <tr>\n",
       "      <th>2</th>\n",
       "      <td>Rent a 119m² atelier in Dübendorf</td>\n",
       "      <td>119.0</td>\n",
       "      <td>198000.0</td>\n",
       "      <td>0</td>\n",
       "    </tr>\n",
       "    <tr>\n",
       "      <th>3</th>\n",
       "      <td>Rent a 1 room single room in St. Gallen</td>\n",
       "      <td>17.0</td>\n",
       "      <td>NaN</td>\n",
       "      <td>0</td>\n",
       "    </tr>\n",
       "    <tr>\n",
       "      <th>4</th>\n",
       "      <td>Rent a room in a shared flat in Zürich</td>\n",
       "      <td>18.0</td>\n",
       "      <td>NaN</td>\n",
       "      <td>0</td>\n",
       "    </tr>\n",
       "    <tr>\n",
       "      <th>...</th>\n",
       "      <td>...</td>\n",
       "      <td>...</td>\n",
       "      <td>...</td>\n",
       "      <td>...</td>\n",
       "    </tr>\n",
       "    <tr>\n",
       "      <th>25949</th>\n",
       "      <td>Rent a 4 ½ rooms apartment in Lucens</td>\n",
       "      <td>100.0</td>\n",
       "      <td>170000.0</td>\n",
       "      <td>0</td>\n",
       "    </tr>\n",
       "    <tr>\n",
       "      <th>25950</th>\n",
       "      <td>Rent a 4 ½ rooms apartment in Fribourg</td>\n",
       "      <td>108.0</td>\n",
       "      <td>220000.0</td>\n",
       "      <td>0</td>\n",
       "    </tr>\n",
       "    <tr>\n",
       "      <th>25951</th>\n",
       "      <td>Rent a 4 ½ rooms apartment in Peseux</td>\n",
       "      <td>96.0</td>\n",
       "      <td>185000.0</td>\n",
       "      <td>0</td>\n",
       "    </tr>\n",
       "    <tr>\n",
       "      <th>25952</th>\n",
       "      <td>Rent a 5 rooms single house in Crassier</td>\n",
       "      <td>180.0</td>\n",
       "      <td>430000.0</td>\n",
       "      <td>0</td>\n",
       "    </tr>\n",
       "    <tr>\n",
       "      <th>25953</th>\n",
       "      <td>Buy a 2242m² building land in Schleitheim</td>\n",
       "      <td>2242.0</td>\n",
       "      <td>NaN</td>\n",
       "      <td>0</td>\n",
       "    </tr>\n",
       "  </tbody>\n",
       "</table>\n",
       "<p>25954 rows × 4 columns</p>\n",
       "</div>"
      ],
      "text/plain": [
       "                                      rent_title  livingspace  rent_net_cents  \\\n",
       "0       Rent a 127m² office in St. Margrethen SG        127.0             NaN   \n",
       "1            Rent a underground slot in Lenzburg          NaN         13000.0   \n",
       "2              Rent a 119m² atelier in Dübendorf        119.0        198000.0   \n",
       "3        Rent a 1 room single room in St. Gallen         17.0             NaN   \n",
       "4         Rent a room in a shared flat in Zürich         18.0             NaN   \n",
       "...                                          ...          ...             ...   \n",
       "25949       Rent a 4 ½ rooms apartment in Lucens        100.0        170000.0   \n",
       "25950     Rent a 4 ½ rooms apartment in Fribourg        108.0        220000.0   \n",
       "25951       Rent a 4 ½ rooms apartment in Peseux         96.0        185000.0   \n",
       "25952    Rent a 5 rooms single house in Crassier        180.0        430000.0   \n",
       "25953  Buy a 2242m² building land in Schleitheim       2242.0             NaN   \n",
       "\n",
       "       reserved_one_zero  \n",
       "0                      0  \n",
       "1                      0  \n",
       "2                      0  \n",
       "3                      0  \n",
       "4                      0  \n",
       "...                  ...  \n",
       "25949                  0  \n",
       "25950                  0  \n",
       "25951                  0  \n",
       "25952                  0  \n",
       "25953                  0  \n",
       "\n",
       "[25954 rows x 4 columns]"
      ]
     },
     "execution_count": 44,
     "metadata": {},
     "output_type": "execute_result"
    }
   ],
   "source": [
    "df.loc[:,\"rent_title\":] # get all rows but only columns `rent_title` and after"
   ]
  },
  {
   "cell_type": "markdown",
   "metadata": {},
   "source": [
    "### 5. How can you sort a DataFrame?"
   ]
  },
  {
   "cell_type": "code",
   "execution_count": 59,
   "metadata": {},
   "outputs": [
    {
     "data": {
      "text/html": [
       "<div>\n",
       "<style scoped>\n",
       "    .dataframe tbody tr th:only-of-type {\n",
       "        vertical-align: middle;\n",
       "    }\n",
       "\n",
       "    .dataframe tbody tr th {\n",
       "        vertical-align: top;\n",
       "    }\n",
       "\n",
       "    .dataframe thead th {\n",
       "        text-align: right;\n",
       "    }\n",
       "</style>\n",
       "<table border=\"1\" class=\"dataframe\">\n",
       "  <thead>\n",
       "    <tr style=\"text-align: right;\">\n",
       "      <th></th>\n",
       "      <th>year_built</th>\n",
       "      <th>rent_net</th>\n",
       "    </tr>\n",
       "  </thead>\n",
       "  <tbody>\n",
       "    <tr>\n",
       "      <th>23716</th>\n",
       "      <td>0.0</td>\n",
       "      <td>9500.0</td>\n",
       "    </tr>\n",
       "    <tr>\n",
       "      <th>18488</th>\n",
       "      <td>0.0</td>\n",
       "      <td>5400.0</td>\n",
       "    </tr>\n",
       "    <tr>\n",
       "      <th>18739</th>\n",
       "      <td>0.0</td>\n",
       "      <td>4090.0</td>\n",
       "    </tr>\n",
       "    <tr>\n",
       "      <th>15849</th>\n",
       "      <td>0.0</td>\n",
       "      <td>3840.0</td>\n",
       "    </tr>\n",
       "    <tr>\n",
       "      <th>8620</th>\n",
       "      <td>0.0</td>\n",
       "      <td>3600.0</td>\n",
       "    </tr>\n",
       "    <tr>\n",
       "      <th>...</th>\n",
       "      <td>...</td>\n",
       "      <td>...</td>\n",
       "    </tr>\n",
       "    <tr>\n",
       "      <th>25939</th>\n",
       "      <td>NaN</td>\n",
       "      <td>NaN</td>\n",
       "    </tr>\n",
       "    <tr>\n",
       "      <th>25940</th>\n",
       "      <td>NaN</td>\n",
       "      <td>NaN</td>\n",
       "    </tr>\n",
       "    <tr>\n",
       "      <th>25941</th>\n",
       "      <td>NaN</td>\n",
       "      <td>NaN</td>\n",
       "    </tr>\n",
       "    <tr>\n",
       "      <th>25944</th>\n",
       "      <td>NaN</td>\n",
       "      <td>NaN</td>\n",
       "    </tr>\n",
       "    <tr>\n",
       "      <th>25953</th>\n",
       "      <td>NaN</td>\n",
       "      <td>NaN</td>\n",
       "    </tr>\n",
       "  </tbody>\n",
       "</table>\n",
       "<p>25954 rows × 2 columns</p>\n",
       "</div>"
      ],
      "text/plain": [
       "       year_built  rent_net\n",
       "23716         0.0    9500.0\n",
       "18488         0.0    5400.0\n",
       "18739         0.0    4090.0\n",
       "15849         0.0    3840.0\n",
       "8620          0.0    3600.0\n",
       "...           ...       ...\n",
       "25939         NaN       NaN\n",
       "25940         NaN       NaN\n",
       "25941         NaN       NaN\n",
       "25944         NaN       NaN\n",
       "25953         NaN       NaN\n",
       "\n",
       "[25954 rows x 2 columns]"
      ]
     },
     "execution_count": 59,
     "metadata": {},
     "output_type": "execute_result"
    }
   ],
   "source": [
    "df.sort_values(by=[\"year_built\", \"rent_net\"], ascending=[True, False])[[\"year_built\", \"rent_net\"]]"
   ]
  },
  {
   "cell_type": "markdown",
   "metadata": {},
   "source": [
    "### 6. Find row for which the value of a column is `max` or `min`"
   ]
  },
  {
   "cell_type": "code",
   "execution_count": 67,
   "metadata": {},
   "outputs": [
    {
     "data": {
      "text/plain": [
       "27"
      ]
     },
     "execution_count": 67,
     "metadata": {},
     "output_type": "execute_result"
    }
   ],
   "source": [
    "df[\"rent_net\"].idxmax()\n",
    "df[\"rent_net\"].idxmin()\n",
    "# df.iloc[1946]\n",
    "# df.iloc[27]"
   ]
  },
  {
   "cell_type": "markdown",
   "metadata": {},
   "source": [
    "### 7. Find all columns of a specific data type"
   ]
  },
  {
   "cell_type": "code",
   "execution_count": 76,
   "metadata": {},
   "outputs": [
    {
     "data": {
      "text/plain": [
       "['is_furnished', 'is_temporary', 'is_selling_furniture', 'reserved']"
      ]
     },
     "execution_count": 76,
     "metadata": {},
     "output_type": "execute_result"
    }
   ],
   "source": [
    "list(df.select_dtypes(include=[\"bool\"]).columns)"
   ]
  },
  {
   "cell_type": "markdown",
   "metadata": {},
   "source": [
    "### 8. How does the `groupby` method work in Pandas?\n",
    "\n",
    "- Split (can be performed on rows or columns)\n",
    "- Apply a function to individual groups to combine\n",
    "- Combine results into a data structure"
   ]
  },
  {
   "attachments": {
    "9b41eac7-7753-402b-ba1b-4fed09839886.png": {
     "image/png": "[encoded data removed]"
    }
   },
   "cell_type": "markdown",
   "metadata": {},
   "source": [
    "![groupby_pandas.png](attachment:9b41eac7-7753-402b-ba1b-4fed09839886.png)"
   ]
  },
  {
   "cell_type": "markdown",
   "metadata": {},
   "source": [
    "### String manipulation on rows and columns"
   ]
  },
  {
   "cell_type": "code",
   "execution_count": 95,
   "metadata": {},
   "outputs": [
    {
     "data": {
      "text/plain": [
       "0        40\n",
       "1        35\n",
       "2        33\n",
       "3        39\n",
       "4        38\n",
       "         ..\n",
       "25949    36\n",
       "25950    38\n",
       "25951    36\n",
       "25952    39\n",
       "25953    41\n",
       "Name: rent_title, Length: 25954, dtype: int64"
      ]
     },
     "execution_count": 95,
     "metadata": {},
     "output_type": "execute_result"
    }
   ],
   "source": [
    "df[\"rent_title\"].str.len()"
   ]
  },
  {
   "cell_type": "code",
   "execution_count": 92,
   "metadata": {},
   "outputs": [
    {
     "data": {
      "text/plain": [
       "0        [Rent, a, 127m², office, in, St., Margrethen, SG]\n",
       "1               [Rent, a, underground, slot, in, Lenzburg]\n",
       "2                 [Rent, a, 119m², atelier, in, Dübendorf]\n",
       "3        [Rent, a, 1, room, single, room, in, St., Gallen]\n",
       "4         [Rent, a, room, in, a, shared, flat, in, Zürich]\n",
       "                               ...                        \n",
       "25949        [Rent, a, 4, ½, rooms, apartment, in, Lucens]\n",
       "25950      [Rent, a, 4, ½, rooms, apartment, in, Fribourg]\n",
       "25951        [Rent, a, 4, ½, rooms, apartment, in, Peseux]\n",
       "25952     [Rent, a, 5, rooms, single, house, in, Crassier]\n",
       "25953    [Buy, a, 2242m², building, land, in, Schleitheim]\n",
       "Name: rent_title, Length: 25954, dtype: object"
      ]
     },
     "execution_count": 92,
     "metadata": {},
     "output_type": "execute_result"
    }
   ],
   "source": [
    "df[\"rent_title\"].str.split()"
   ]
  },
  {
   "cell_type": "markdown",
   "metadata": {},
   "source": [
    "df[\"rent_title\"].str.split(expand=True)"
   ]
  },
  {
   "cell_type": "markdown",
   "metadata": {},
   "source": [
    "### 10. How to check whether a pandas DataFrame is empty?"
   ]
  },
  {
   "cell_type": "code",
   "execution_count": 96,
   "metadata": {},
   "outputs": [
    {
     "data": {
      "text/plain": [
       "False"
      ]
     },
     "execution_count": 96,
     "metadata": {},
     "output_type": "execute_result"
    }
   ],
   "source": [
    "df.empty"
   ]
  },
  {
   "cell_type": "markdown",
   "metadata": {},
   "source": [
    "### 11. How would you iterate over rows of a pandas DataFrame?"
   ]
  },
  {
   "cell_type": "code",
   "execution_count": 101,
   "metadata": {},
   "outputs": [
    {
     "name": "stdout",
     "output_type": "stream",
     "text": [
      "0 nan 127.0\n",
      "1 130.0 nan\n",
      "2 1980.0 119.0\n",
      "3 nan 17.0\n",
      "4 nan 18.0\n"
     ]
    }
   ],
   "source": [
    "for index, row in df.head().iterrows():\n",
    "    print(index, row[\"rent_net\"], row[\"livingspace\"])"
   ]
  },
  {
   "cell_type": "markdown",
   "metadata": {},
   "source": [
    "### 12. Steps of groupby\n",
    "- Split\n",
    "- Apply\n",
    "- Combine"
   ]
  },
  {
   "cell_type": "markdown",
   "metadata": {},
   "source": [
    "### 13. What do `describe` percentile values tell us about the data?"
   ]
  },
  {
   "cell_type": "code",
   "execution_count": 106,
   "metadata": {},
   "outputs": [
    {
     "data": {
      "text/plain": [
       "count    13618.000000\n",
       "mean      1461.775224\n",
       "std       1713.423528\n",
       "min          0.000000\n",
       "25%        250.000000\n",
       "50%       1270.000000\n",
       "75%       1869.500000\n",
       "max      53882.000000\n",
       "Name: rent_net, dtype: float64"
      ]
     },
     "execution_count": 106,
     "metadata": {},
     "output_type": "execute_result"
    }
   ],
   "source": [
    "# Percentiles, 50 is the median.\n",
    "df[\"rent_net\"].describe()"
   ]
  },
  {
   "cell_type": "markdown",
   "metadata": {},
   "source": [
    "### 14. When would you make a copy of a DataFrame in Pandas?"
   ]
  },
  {
   "cell_type": "markdown",
   "metadata": {},
   "source": [
    "- Safer to work on copies"
   ]
  },
  {
   "cell_type": "markdown",
   "metadata": {},
   "source": [
    "### 15. Compare the methods `map`, `applymap` and `apply`"
   ]
  },
  {
   "cell_type": "markdown",
   "metadata": {},
   "source": [
    "#### `map`"
   ]
  },
  {
   "cell_type": "markdown",
   "metadata": {},
   "source": [
    "- `map` only operates on `Series`. It converts values from input to output. If input is not found, converts to `NaN`.\n",
    "- Accepts `dicts`, `Series` or `callable`"
   ]
  },
  {
   "cell_type": "code",
   "execution_count": 111,
   "metadata": {},
   "outputs": [
    {
     "data": {
      "text/plain": [
       "0    kitty\n",
       "1    puppy\n",
       "2      NaN\n",
       "3      NaN\n",
       "dtype: object"
      ]
     },
     "execution_count": 111,
     "metadata": {},
     "output_type": "execute_result"
    }
   ],
   "source": [
    "s = pd.Series([\"cat\", \"dog\", np.nan, \"rabbit\"])\n",
    "s.map({\"cat\": \"kitty\", \"dog\": \"puppy\"})"
   ]
  },
  {
   "cell_type": "markdown",
   "metadata": {},
   "source": [
    "#### `applymap`"
   ]
  },
  {
   "cell_type": "markdown",
   "metadata": {},
   "source": [
    "- `deprecated`. Use `df.map` instead.\n",
    "- `applymap` only operates on `DataFrame`. It applies a function that takes in a scalar and returns a scalar."
   ]
  },
  {
   "cell_type": "code",
   "execution_count": 118,
   "metadata": {},
   "outputs": [
    {
     "data": {
      "text/html": [
       "<div>\n",
       "<style scoped>\n",
       "    .dataframe tbody tr th:only-of-type {\n",
       "        vertical-align: middle;\n",
       "    }\n",
       "\n",
       "    .dataframe tbody tr th {\n",
       "        vertical-align: top;\n",
       "    }\n",
       "\n",
       "    .dataframe thead th {\n",
       "        text-align: right;\n",
       "    }\n",
       "</style>\n",
       "<table border=\"1\" class=\"dataframe\">\n",
       "  <thead>\n",
       "    <tr style=\"text-align: right;\">\n",
       "      <th></th>\n",
       "      <th>0</th>\n",
       "      <th>1</th>\n",
       "    </tr>\n",
       "  </thead>\n",
       "  <tbody>\n",
       "    <tr>\n",
       "      <th>0</th>\n",
       "      <td>2.0</td>\n",
       "      <td>4.0</td>\n",
       "    </tr>\n",
       "    <tr>\n",
       "      <th>1</th>\n",
       "      <td>6.0</td>\n",
       "      <td>8.0</td>\n",
       "    </tr>\n",
       "  </tbody>\n",
       "</table>\n",
       "</div>"
      ],
      "text/plain": [
       "     0    1\n",
       "0  2.0  4.0\n",
       "1  6.0  8.0"
      ]
     },
     "execution_count": 118,
     "metadata": {},
     "output_type": "execute_result"
    }
   ],
   "source": [
    "df = pd.DataFrame([[1.0, 2.0], [3.0, 4.0]])\n",
    "df.map(lambda x: x*2)"
   ]
  },
  {
   "cell_type": "markdown",
   "metadata": {},
   "source": [
    "### `apply`"
   ]
  },
  {
   "cell_type": "markdown",
   "metadata": {},
   "source": [
    "- Works elementwise. Applies function along input axis of DataFrame"
   ]
  },
  {
   "cell_type": "code",
   "execution_count": 122,
   "metadata": {},
   "outputs": [
    {
     "data": {
      "text/html": [
       "<div>\n",
       "<style scoped>\n",
       "    .dataframe tbody tr th:only-of-type {\n",
       "        vertical-align: middle;\n",
       "    }\n",
       "\n",
       "    .dataframe tbody tr th {\n",
       "        vertical-align: top;\n",
       "    }\n",
       "\n",
       "    .dataframe thead th {\n",
       "        text-align: right;\n",
       "    }\n",
       "</style>\n",
       "<table border=\"1\" class=\"dataframe\">\n",
       "  <thead>\n",
       "    <tr style=\"text-align: right;\">\n",
       "      <th></th>\n",
       "      <th>A</th>\n",
       "      <th>B</th>\n",
       "    </tr>\n",
       "  </thead>\n",
       "  <tbody>\n",
       "    <tr>\n",
       "      <th>0</th>\n",
       "      <td>2.0</td>\n",
       "      <td>3.0</td>\n",
       "    </tr>\n",
       "    <tr>\n",
       "      <th>1</th>\n",
       "      <td>2.0</td>\n",
       "      <td>3.0</td>\n",
       "    </tr>\n",
       "    <tr>\n",
       "      <th>2</th>\n",
       "      <td>2.0</td>\n",
       "      <td>3.0</td>\n",
       "    </tr>\n",
       "  </tbody>\n",
       "</table>\n",
       "</div>"
      ],
      "text/plain": [
       "     A    B\n",
       "0  2.0  3.0\n",
       "1  2.0  3.0\n",
       "2  2.0  3.0"
      ]
     },
     "execution_count": 122,
     "metadata": {},
     "output_type": "execute_result"
    }
   ],
   "source": [
    "df = pd.DataFrame([[4, 9]] * 3, columns=[\"A\", \"B\"])\n",
    "df.apply(np.sqrt)"
   ]
  },
  {
   "cell_type": "markdown",
   "metadata": {},
   "source": [
    "### 16. Describe how you can `merge` data on common columns or indices"
   ]
  },
  {
   "cell_type": "markdown",
   "metadata": {},
   "source": [
    "- Available merges are: `inner`, `left`, `right` and `outer`\n",
    "- `inner` (default): keep only common values in both left and right DataFrames\n",
    "- `left`: keeps every row in the left DataFrame\n",
    "- `right`: keeps every row in the right DataFrame\n",
    "- `outer`: keeps all the rows, matches them where there are common values and adds `NaN`s otherwise."
   ]
  },
  {
   "cell_type": "code",
   "execution_count": 123,
   "metadata": {},
   "outputs": [],
   "source": [
    "df1 = pd.DataFrame({\"a\": [\"foo\", \"bar\"], \"b\": [1, 2]})\n",
    "df2 = pd.DataFrame({\"a\": [\"foo\", \"baz\"], \"c\": [3, 4]})"
   ]
  },
  {
   "cell_type": "code",
   "execution_count": 128,
   "metadata": {},
   "outputs": [
    {
     "data": {
      "text/html": [
       "<div>\n",
       "<style scoped>\n",
       "    .dataframe tbody tr th:only-of-type {\n",
       "        vertical-align: middle;\n",
       "    }\n",
       "\n",
       "    .dataframe tbody tr th {\n",
       "        vertical-align: top;\n",
       "    }\n",
       "\n",
       "    .dataframe thead th {\n",
       "        text-align: right;\n",
       "    }\n",
       "</style>\n",
       "<table border=\"1\" class=\"dataframe\">\n",
       "  <thead>\n",
       "    <tr style=\"text-align: right;\">\n",
       "      <th></th>\n",
       "      <th>a</th>\n",
       "      <th>b</th>\n",
       "    </tr>\n",
       "  </thead>\n",
       "  <tbody>\n",
       "    <tr>\n",
       "      <th>0</th>\n",
       "      <td>foo</td>\n",
       "      <td>1</td>\n",
       "    </tr>\n",
       "    <tr>\n",
       "      <th>1</th>\n",
       "      <td>bar</td>\n",
       "      <td>2</td>\n",
       "    </tr>\n",
       "  </tbody>\n",
       "</table>\n",
       "</div>"
      ],
      "text/plain": [
       "     a  b\n",
       "0  foo  1\n",
       "1  bar  2"
      ]
     },
     "execution_count": 128,
     "metadata": {},
     "output_type": "execute_result"
    }
   ],
   "source": [
    "df1"
   ]
  },
  {
   "cell_type": "code",
   "execution_count": 129,
   "metadata": {},
   "outputs": [
    {
     "data": {
      "text/html": [
       "<div>\n",
       "<style scoped>\n",
       "    .dataframe tbody tr th:only-of-type {\n",
       "        vertical-align: middle;\n",
       "    }\n",
       "\n",
       "    .dataframe tbody tr th {\n",
       "        vertical-align: top;\n",
       "    }\n",
       "\n",
       "    .dataframe thead th {\n",
       "        text-align: right;\n",
       "    }\n",
       "</style>\n",
       "<table border=\"1\" class=\"dataframe\">\n",
       "  <thead>\n",
       "    <tr style=\"text-align: right;\">\n",
       "      <th></th>\n",
       "      <th>a</th>\n",
       "      <th>c</th>\n",
       "    </tr>\n",
       "  </thead>\n",
       "  <tbody>\n",
       "    <tr>\n",
       "      <th>0</th>\n",
       "      <td>foo</td>\n",
       "      <td>3</td>\n",
       "    </tr>\n",
       "    <tr>\n",
       "      <th>1</th>\n",
       "      <td>baz</td>\n",
       "      <td>4</td>\n",
       "    </tr>\n",
       "  </tbody>\n",
       "</table>\n",
       "</div>"
      ],
      "text/plain": [
       "     a  c\n",
       "0  foo  3\n",
       "1  baz  4"
      ]
     },
     "execution_count": 129,
     "metadata": {},
     "output_type": "execute_result"
    }
   ],
   "source": [
    "df2"
   ]
  },
  {
   "cell_type": "code",
   "execution_count": 126,
   "metadata": {},
   "outputs": [
    {
     "data": {
      "text/html": [
       "<div>\n",
       "<style scoped>\n",
       "    .dataframe tbody tr th:only-of-type {\n",
       "        vertical-align: middle;\n",
       "    }\n",
       "\n",
       "    .dataframe tbody tr th {\n",
       "        vertical-align: top;\n",
       "    }\n",
       "\n",
       "    .dataframe thead th {\n",
       "        text-align: right;\n",
       "    }\n",
       "</style>\n",
       "<table border=\"1\" class=\"dataframe\">\n",
       "  <thead>\n",
       "    <tr style=\"text-align: right;\">\n",
       "      <th></th>\n",
       "      <th>a</th>\n",
       "      <th>b</th>\n",
       "      <th>c</th>\n",
       "    </tr>\n",
       "  </thead>\n",
       "  <tbody>\n",
       "    <tr>\n",
       "      <th>0</th>\n",
       "      <td>foo</td>\n",
       "      <td>1</td>\n",
       "      <td>3</td>\n",
       "    </tr>\n",
       "  </tbody>\n",
       "</table>\n",
       "</div>"
      ],
      "text/plain": [
       "     a  b  c\n",
       "0  foo  1  3"
      ]
     },
     "execution_count": 126,
     "metadata": {},
     "output_type": "execute_result"
    }
   ],
   "source": [
    "df1.merge(df2, how=\"inner\", on=\"a\")"
   ]
  },
  {
   "cell_type": "code",
   "execution_count": 127,
   "metadata": {},
   "outputs": [
    {
     "data": {
      "text/html": [
       "<div>\n",
       "<style scoped>\n",
       "    .dataframe tbody tr th:only-of-type {\n",
       "        vertical-align: middle;\n",
       "    }\n",
       "\n",
       "    .dataframe tbody tr th {\n",
       "        vertical-align: top;\n",
       "    }\n",
       "\n",
       "    .dataframe thead th {\n",
       "        text-align: right;\n",
       "    }\n",
       "</style>\n",
       "<table border=\"1\" class=\"dataframe\">\n",
       "  <thead>\n",
       "    <tr style=\"text-align: right;\">\n",
       "      <th></th>\n",
       "      <th>a</th>\n",
       "      <th>b</th>\n",
       "      <th>c</th>\n",
       "    </tr>\n",
       "  </thead>\n",
       "  <tbody>\n",
       "    <tr>\n",
       "      <th>0</th>\n",
       "      <td>foo</td>\n",
       "      <td>1</td>\n",
       "      <td>3.0</td>\n",
       "    </tr>\n",
       "    <tr>\n",
       "      <th>1</th>\n",
       "      <td>bar</td>\n",
       "      <td>2</td>\n",
       "      <td>NaN</td>\n",
       "    </tr>\n",
       "  </tbody>\n",
       "</table>\n",
       "</div>"
      ],
      "text/plain": [
       "     a  b    c\n",
       "0  foo  1  3.0\n",
       "1  bar  2  NaN"
      ]
     },
     "execution_count": 127,
     "metadata": {},
     "output_type": "execute_result"
    }
   ],
   "source": [
    "df1.merge(df2, how=\"left\", on=\"a\")"
   ]
  },
  {
   "cell_type": "code",
   "execution_count": 130,
   "metadata": {},
   "outputs": [
    {
     "data": {
      "text/html": [
       "<div>\n",
       "<style scoped>\n",
       "    .dataframe tbody tr th:only-of-type {\n",
       "        vertical-align: middle;\n",
       "    }\n",
       "\n",
       "    .dataframe tbody tr th {\n",
       "        vertical-align: top;\n",
       "    }\n",
       "\n",
       "    .dataframe thead th {\n",
       "        text-align: right;\n",
       "    }\n",
       "</style>\n",
       "<table border=\"1\" class=\"dataframe\">\n",
       "  <thead>\n",
       "    <tr style=\"text-align: right;\">\n",
       "      <th></th>\n",
       "      <th>a</th>\n",
       "      <th>b</th>\n",
       "      <th>c</th>\n",
       "    </tr>\n",
       "  </thead>\n",
       "  <tbody>\n",
       "    <tr>\n",
       "      <th>0</th>\n",
       "      <td>foo</td>\n",
       "      <td>1.0</td>\n",
       "      <td>3</td>\n",
       "    </tr>\n",
       "    <tr>\n",
       "      <th>1</th>\n",
       "      <td>baz</td>\n",
       "      <td>NaN</td>\n",
       "      <td>4</td>\n",
       "    </tr>\n",
       "  </tbody>\n",
       "</table>\n",
       "</div>"
      ],
      "text/plain": [
       "     a    b  c\n",
       "0  foo  1.0  3\n",
       "1  baz  NaN  4"
      ]
     },
     "execution_count": 130,
     "metadata": {},
     "output_type": "execute_result"
    }
   ],
   "source": [
    "df1.merge(df2, how=\"right\", on=\"a\")"
   ]
  },
  {
   "cell_type": "code",
   "execution_count": 131,
   "metadata": {},
   "outputs": [
    {
     "data": {
      "text/html": [
       "<div>\n",
       "<style scoped>\n",
       "    .dataframe tbody tr th:only-of-type {\n",
       "        vertical-align: middle;\n",
       "    }\n",
       "\n",
       "    .dataframe tbody tr th {\n",
       "        vertical-align: top;\n",
       "    }\n",
       "\n",
       "    .dataframe thead th {\n",
       "        text-align: right;\n",
       "    }\n",
       "</style>\n",
       "<table border=\"1\" class=\"dataframe\">\n",
       "  <thead>\n",
       "    <tr style=\"text-align: right;\">\n",
       "      <th></th>\n",
       "      <th>a</th>\n",
       "      <th>b</th>\n",
       "      <th>c</th>\n",
       "    </tr>\n",
       "  </thead>\n",
       "  <tbody>\n",
       "    <tr>\n",
       "      <th>0</th>\n",
       "      <td>foo</td>\n",
       "      <td>1.0</td>\n",
       "      <td>3.0</td>\n",
       "    </tr>\n",
       "    <tr>\n",
       "      <th>1</th>\n",
       "      <td>bar</td>\n",
       "      <td>2.0</td>\n",
       "      <td>NaN</td>\n",
       "    </tr>\n",
       "    <tr>\n",
       "      <th>2</th>\n",
       "      <td>baz</td>\n",
       "      <td>NaN</td>\n",
       "      <td>4.0</td>\n",
       "    </tr>\n",
       "  </tbody>\n",
       "</table>\n",
       "</div>"
      ],
      "text/plain": [
       "     a    b    c\n",
       "0  foo  1.0  3.0\n",
       "1  bar  2.0  NaN\n",
       "2  baz  NaN  4.0"
      ]
     },
     "execution_count": 131,
     "metadata": {},
     "output_type": "execute_result"
    }
   ],
   "source": [
    "df1.merge(df2, how=\"outer\", on=\"a\")"
   ]
  },
  {
   "cell_type": "markdown",
   "metadata": {},
   "source": [
    "### 17."
   ]
  },
  {
   "cell_type": "markdown",
   "metadata": {},
   "source": [
    "### 18. Group DataFrame rows into a list"
   ]
  },
  {
   "cell_type": "code",
   "execution_count": 134,
   "metadata": {},
   "outputs": [
    {
     "data": {
      "text/html": [
       "<div>\n",
       "<style scoped>\n",
       "    .dataframe tbody tr th:only-of-type {\n",
       "        vertical-align: middle;\n",
       "    }\n",
       "\n",
       "    .dataframe tbody tr th {\n",
       "        vertical-align: top;\n",
       "    }\n",
       "\n",
       "    .dataframe thead th {\n",
       "        text-align: right;\n",
       "    }\n",
       "</style>\n",
       "<table border=\"1\" class=\"dataframe\">\n",
       "  <thead>\n",
       "    <tr style=\"text-align: right;\">\n",
       "      <th></th>\n",
       "      <th>a</th>\n",
       "      <th>b</th>\n",
       "    </tr>\n",
       "  </thead>\n",
       "  <tbody>\n",
       "    <tr>\n",
       "      <th>0</th>\n",
       "      <td>A</td>\n",
       "      <td>1</td>\n",
       "    </tr>\n",
       "    <tr>\n",
       "      <th>1</th>\n",
       "      <td>A</td>\n",
       "      <td>2</td>\n",
       "    </tr>\n",
       "    <tr>\n",
       "      <th>2</th>\n",
       "      <td>B</td>\n",
       "      <td>5</td>\n",
       "    </tr>\n",
       "    <tr>\n",
       "      <th>3</th>\n",
       "      <td>B</td>\n",
       "      <td>5</td>\n",
       "    </tr>\n",
       "    <tr>\n",
       "      <th>4</th>\n",
       "      <td>B</td>\n",
       "      <td>4</td>\n",
       "    </tr>\n",
       "    <tr>\n",
       "      <th>5</th>\n",
       "      <td>C</td>\n",
       "      <td>6</td>\n",
       "    </tr>\n",
       "  </tbody>\n",
       "</table>\n",
       "</div>"
      ],
      "text/plain": [
       "   a  b\n",
       "0  A  1\n",
       "1  A  2\n",
       "2  B  5\n",
       "3  B  5\n",
       "4  B  4\n",
       "5  C  6"
      ]
     },
     "execution_count": 134,
     "metadata": {},
     "output_type": "execute_result"
    }
   ],
   "source": [
    "df = pd.DataFrame({\"a\": [\"A\", \"A\", \"B\", \"B\", \"B\", \"C\"], \"b\": [1, 2, 5, 5, 4, 6]})\n",
    "df"
   ]
  },
  {
   "cell_type": "markdown",
   "metadata": {},
   "source": [
    "Goal:\n",
    "- Row A: [1, 2]\n",
    "- Row B: [5, 5, 4]\n",
    "- Row C: [6]"
   ]
  },
  {
   "cell_type": "code",
   "execution_count": 140,
   "metadata": {},
   "outputs": [
    {
     "data": {
      "text/plain": [
       "a\n",
       "A       [1, 2]\n",
       "B    [5, 5, 4]\n",
       "C          [6]\n",
       "Name: b, dtype: object"
      ]
     },
     "execution_count": 140,
     "metadata": {},
     "output_type": "execute_result"
    }
   ],
   "source": [
    "df1 = df.groupby(\"a\")[\"b\"].apply(list)\n",
    "df1"
   ]
  },
  {
   "cell_type": "code",
   "execution_count": 142,
   "metadata": {},
   "outputs": [
    {
     "data": {
      "text/html": [
       "<div>\n",
       "<style scoped>\n",
       "    .dataframe tbody tr th:only-of-type {\n",
       "        vertical-align: middle;\n",
       "    }\n",
       "\n",
       "    .dataframe tbody tr th {\n",
       "        vertical-align: top;\n",
       "    }\n",
       "\n",
       "    .dataframe thead th {\n",
       "        text-align: right;\n",
       "    }\n",
       "</style>\n",
       "<table border=\"1\" class=\"dataframe\">\n",
       "  <thead>\n",
       "    <tr style=\"text-align: right;\">\n",
       "      <th></th>\n",
       "      <th>a</th>\n",
       "      <th>list</th>\n",
       "    </tr>\n",
       "  </thead>\n",
       "  <tbody>\n",
       "    <tr>\n",
       "      <th>0</th>\n",
       "      <td>A</td>\n",
       "      <td>[1, 2]</td>\n",
       "    </tr>\n",
       "    <tr>\n",
       "      <th>1</th>\n",
       "      <td>B</td>\n",
       "      <td>[5, 5, 4]</td>\n",
       "    </tr>\n",
       "    <tr>\n",
       "      <th>2</th>\n",
       "      <td>C</td>\n",
       "      <td>[6]</td>\n",
       "    </tr>\n",
       "  </tbody>\n",
       "</table>\n",
       "</div>"
      ],
      "text/plain": [
       "   a       list\n",
       "0  A     [1, 2]\n",
       "1  B  [5, 5, 4]\n",
       "2  C        [6]"
      ]
     },
     "execution_count": 142,
     "metadata": {},
     "output_type": "execute_result"
    }
   ],
   "source": [
    "df1.reset_index(name=\"list\")"
   ]
  },
  {
   "cell_type": "markdown",
   "metadata": {},
   "source": [
    "### 19. How can I achieve the equivalent of SQLs `IN` and `NOT IN` in Pandas?"
   ]
  },
  {
   "cell_type": "code",
   "execution_count": 143,
   "metadata": {},
   "outputs": [],
   "source": [
    "df = pd.DataFrame({\"A\": [1, 2, 3, 4, 5, 6]})"
   ]
  },
  {
   "cell_type": "markdown",
   "metadata": {},
   "source": [
    "#### `IN`"
   ]
  },
  {
   "cell_type": "code",
   "execution_count": 148,
   "metadata": {},
   "outputs": [
    {
     "data": {
      "text/html": [
       "<div>\n",
       "<style scoped>\n",
       "    .dataframe tbody tr th:only-of-type {\n",
       "        vertical-align: middle;\n",
       "    }\n",
       "\n",
       "    .dataframe tbody tr th {\n",
       "        vertical-align: top;\n",
       "    }\n",
       "\n",
       "    .dataframe thead th {\n",
       "        text-align: right;\n",
       "    }\n",
       "</style>\n",
       "<table border=\"1\" class=\"dataframe\">\n",
       "  <thead>\n",
       "    <tr style=\"text-align: right;\">\n",
       "      <th></th>\n",
       "      <th>A</th>\n",
       "    </tr>\n",
       "  </thead>\n",
       "  <tbody>\n",
       "    <tr>\n",
       "      <th>2</th>\n",
       "      <td>3</td>\n",
       "    </tr>\n",
       "    <tr>\n",
       "      <th>5</th>\n",
       "      <td>6</td>\n",
       "    </tr>\n",
       "  </tbody>\n",
       "</table>\n",
       "</div>"
      ],
      "text/plain": [
       "   A\n",
       "2  3\n",
       "5  6"
      ]
     },
     "execution_count": 148,
     "metadata": {},
     "output_type": "execute_result"
    }
   ],
   "source": [
    "df[df[\"A\"].isin([3, 6])]"
   ]
  },
  {
   "cell_type": "markdown",
   "metadata": {},
   "source": [
    "`NOT IN`"
   ]
  },
  {
   "cell_type": "code",
   "execution_count": 149,
   "metadata": {},
   "outputs": [
    {
     "data": {
      "text/html": [
       "<div>\n",
       "<style scoped>\n",
       "    .dataframe tbody tr th:only-of-type {\n",
       "        vertical-align: middle;\n",
       "    }\n",
       "\n",
       "    .dataframe tbody tr th {\n",
       "        vertical-align: top;\n",
       "    }\n",
       "\n",
       "    .dataframe thead th {\n",
       "        text-align: right;\n",
       "    }\n",
       "</style>\n",
       "<table border=\"1\" class=\"dataframe\">\n",
       "  <thead>\n",
       "    <tr style=\"text-align: right;\">\n",
       "      <th></th>\n",
       "      <th>A</th>\n",
       "    </tr>\n",
       "  </thead>\n",
       "  <tbody>\n",
       "    <tr>\n",
       "      <th>0</th>\n",
       "      <td>1</td>\n",
       "    </tr>\n",
       "    <tr>\n",
       "      <th>1</th>\n",
       "      <td>2</td>\n",
       "    </tr>\n",
       "    <tr>\n",
       "      <th>3</th>\n",
       "      <td>4</td>\n",
       "    </tr>\n",
       "    <tr>\n",
       "      <th>4</th>\n",
       "      <td>5</td>\n",
       "    </tr>\n",
       "  </tbody>\n",
       "</table>\n",
       "</div>"
      ],
      "text/plain": [
       "   A\n",
       "0  1\n",
       "1  2\n",
       "3  4\n",
       "4  5"
      ]
     },
     "execution_count": 149,
     "metadata": {},
     "output_type": "execute_result"
    }
   ],
   "source": [
    "df[~df[\"A\"].isin([3, 6])]"
   ]
  },
  {
   "cell_type": "markdown",
   "metadata": {},
   "source": [
    "### 20. How do you split a `DataFrame` according to a boolean criterion?"
   ]
  },
  {
   "cell_type": "code",
   "execution_count": 162,
   "metadata": {},
   "outputs": [],
   "source": [
    "df = pd.DataFrame({\n",
    "    \"A\": \"foo bar foo bar foo bar foo foo\".split(), \n",
    "    \"B\": \"one one two three two two one three\".split(), \\\n",
    "    \"C\": np.arange(8), \n",
    "    \"D\": np.arange(8) * 2\n",
    "})"
   ]
  },
  {
   "cell_type": "code",
   "execution_count": 163,
   "metadata": {},
   "outputs": [
    {
     "data": {
      "text/html": [
       "<div>\n",
       "<style scoped>\n",
       "    .dataframe tbody tr th:only-of-type {\n",
       "        vertical-align: middle;\n",
       "    }\n",
       "\n",
       "    .dataframe tbody tr th {\n",
       "        vertical-align: top;\n",
       "    }\n",
       "\n",
       "    .dataframe thead th {\n",
       "        text-align: right;\n",
       "    }\n",
       "</style>\n",
       "<table border=\"1\" class=\"dataframe\">\n",
       "  <thead>\n",
       "    <tr style=\"text-align: right;\">\n",
       "      <th></th>\n",
       "      <th>A</th>\n",
       "      <th>B</th>\n",
       "      <th>C</th>\n",
       "      <th>D</th>\n",
       "    </tr>\n",
       "  </thead>\n",
       "  <tbody>\n",
       "    <tr>\n",
       "      <th>0</th>\n",
       "      <td>foo</td>\n",
       "      <td>one</td>\n",
       "      <td>0</td>\n",
       "      <td>0</td>\n",
       "    </tr>\n",
       "    <tr>\n",
       "      <th>1</th>\n",
       "      <td>bar</td>\n",
       "      <td>one</td>\n",
       "      <td>1</td>\n",
       "      <td>2</td>\n",
       "    </tr>\n",
       "    <tr>\n",
       "      <th>2</th>\n",
       "      <td>foo</td>\n",
       "      <td>two</td>\n",
       "      <td>2</td>\n",
       "      <td>4</td>\n",
       "    </tr>\n",
       "    <tr>\n",
       "      <th>3</th>\n",
       "      <td>bar</td>\n",
       "      <td>three</td>\n",
       "      <td>3</td>\n",
       "      <td>6</td>\n",
       "    </tr>\n",
       "    <tr>\n",
       "      <th>4</th>\n",
       "      <td>foo</td>\n",
       "      <td>two</td>\n",
       "      <td>4</td>\n",
       "      <td>8</td>\n",
       "    </tr>\n",
       "    <tr>\n",
       "      <th>5</th>\n",
       "      <td>bar</td>\n",
       "      <td>two</td>\n",
       "      <td>5</td>\n",
       "      <td>10</td>\n",
       "    </tr>\n",
       "    <tr>\n",
       "      <th>6</th>\n",
       "      <td>foo</td>\n",
       "      <td>one</td>\n",
       "      <td>6</td>\n",
       "      <td>12</td>\n",
       "    </tr>\n",
       "    <tr>\n",
       "      <th>7</th>\n",
       "      <td>foo</td>\n",
       "      <td>three</td>\n",
       "      <td>7</td>\n",
       "      <td>14</td>\n",
       "    </tr>\n",
       "  </tbody>\n",
       "</table>\n",
       "</div>"
      ],
      "text/plain": [
       "     A      B  C   D\n",
       "0  foo    one  0   0\n",
       "1  bar    one  1   2\n",
       "2  foo    two  2   4\n",
       "3  bar  three  3   6\n",
       "4  foo    two  4   8\n",
       "5  bar    two  5  10\n",
       "6  foo    one  6  12\n",
       "7  foo  three  7  14"
      ]
     },
     "execution_count": 163,
     "metadata": {},
     "output_type": "execute_result"
    }
   ],
   "source": [
    "df"
   ]
  },
  {
   "cell_type": "markdown",
   "metadata": {},
   "source": [
    " Use a mask"
   ]
  },
  {
   "cell_type": "code",
   "execution_count": 164,
   "metadata": {},
   "outputs": [],
   "source": [
    "m = df[\"A\"] == \"foo\"\n",
    "df1, df2 = df[m], df[~m]"
   ]
  },
  {
   "cell_type": "code",
   "execution_count": 165,
   "metadata": {},
   "outputs": [
    {
     "data": {
      "text/html": [
       "<div>\n",
       "<style scoped>\n",
       "    .dataframe tbody tr th:only-of-type {\n",
       "        vertical-align: middle;\n",
       "    }\n",
       "\n",
       "    .dataframe tbody tr th {\n",
       "        vertical-align: top;\n",
       "    }\n",
       "\n",
       "    .dataframe thead th {\n",
       "        text-align: right;\n",
       "    }\n",
       "</style>\n",
       "<table border=\"1\" class=\"dataframe\">\n",
       "  <thead>\n",
       "    <tr style=\"text-align: right;\">\n",
       "      <th></th>\n",
       "      <th>A</th>\n",
       "      <th>B</th>\n",
       "      <th>C</th>\n",
       "      <th>D</th>\n",
       "    </tr>\n",
       "  </thead>\n",
       "  <tbody>\n",
       "    <tr>\n",
       "      <th>0</th>\n",
       "      <td>foo</td>\n",
       "      <td>one</td>\n",
       "      <td>0</td>\n",
       "      <td>0</td>\n",
       "    </tr>\n",
       "    <tr>\n",
       "      <th>2</th>\n",
       "      <td>foo</td>\n",
       "      <td>two</td>\n",
       "      <td>2</td>\n",
       "      <td>4</td>\n",
       "    </tr>\n",
       "    <tr>\n",
       "      <th>4</th>\n",
       "      <td>foo</td>\n",
       "      <td>two</td>\n",
       "      <td>4</td>\n",
       "      <td>8</td>\n",
       "    </tr>\n",
       "    <tr>\n",
       "      <th>6</th>\n",
       "      <td>foo</td>\n",
       "      <td>one</td>\n",
       "      <td>6</td>\n",
       "      <td>12</td>\n",
       "    </tr>\n",
       "    <tr>\n",
       "      <th>7</th>\n",
       "      <td>foo</td>\n",
       "      <td>three</td>\n",
       "      <td>7</td>\n",
       "      <td>14</td>\n",
       "    </tr>\n",
       "  </tbody>\n",
       "</table>\n",
       "</div>"
      ],
      "text/plain": [
       "     A      B  C   D\n",
       "0  foo    one  0   0\n",
       "2  foo    two  2   4\n",
       "4  foo    two  4   8\n",
       "6  foo    one  6  12\n",
       "7  foo  three  7  14"
      ]
     },
     "execution_count": 165,
     "metadata": {},
     "output_type": "execute_result"
    }
   ],
   "source": [
    "df1"
   ]
  },
  {
   "cell_type": "code",
   "execution_count": 166,
   "metadata": {},
   "outputs": [
    {
     "data": {
      "text/html": [
       "<div>\n",
       "<style scoped>\n",
       "    .dataframe tbody tr th:only-of-type {\n",
       "        vertical-align: middle;\n",
       "    }\n",
       "\n",
       "    .dataframe tbody tr th {\n",
       "        vertical-align: top;\n",
       "    }\n",
       "\n",
       "    .dataframe thead th {\n",
       "        text-align: right;\n",
       "    }\n",
       "</style>\n",
       "<table border=\"1\" class=\"dataframe\">\n",
       "  <thead>\n",
       "    <tr style=\"text-align: right;\">\n",
       "      <th></th>\n",
       "      <th>A</th>\n",
       "      <th>B</th>\n",
       "      <th>C</th>\n",
       "      <th>D</th>\n",
       "    </tr>\n",
       "  </thead>\n",
       "  <tbody>\n",
       "    <tr>\n",
       "      <th>1</th>\n",
       "      <td>bar</td>\n",
       "      <td>one</td>\n",
       "      <td>1</td>\n",
       "      <td>2</td>\n",
       "    </tr>\n",
       "    <tr>\n",
       "      <th>3</th>\n",
       "      <td>bar</td>\n",
       "      <td>three</td>\n",
       "      <td>3</td>\n",
       "      <td>6</td>\n",
       "    </tr>\n",
       "    <tr>\n",
       "      <th>5</th>\n",
       "      <td>bar</td>\n",
       "      <td>two</td>\n",
       "      <td>5</td>\n",
       "      <td>10</td>\n",
       "    </tr>\n",
       "  </tbody>\n",
       "</table>\n",
       "</div>"
      ],
      "text/plain": [
       "     A      B  C   D\n",
       "1  bar    one  1   2\n",
       "3  bar  three  3   6\n",
       "5  bar    two  5  10"
      ]
     },
     "execution_count": 166,
     "metadata": {},
     "output_type": "execute_result"
    }
   ],
   "source": [
    "df2"
   ]
  },
  {
   "cell_type": "markdown",
   "metadata": {},
   "source": [
    "### 21. "
   ]
  },
  {
   "cell_type": "markdown",
   "metadata": {},
   "source": [
    "### 22."
   ]
  },
  {
   "cell_type": "markdown",
   "metadata": {},
   "source": [
    "### 23. How would you convert continuous values into discrete values in Pandas?"
   ]
  },
  {
   "cell_type": "code",
   "execution_count": 173,
   "metadata": {},
   "outputs": [],
   "source": [
    "s = pd.Series([1, 2, 3, 4, 5, 6, 4, 5, 1, 4, 5, 6])"
   ]
  },
  {
   "cell_type": "markdown",
   "metadata": {},
   "source": [
    "#### `cut`"
   ]
  },
  {
   "cell_type": "code",
   "execution_count": 174,
   "metadata": {},
   "outputs": [
    {
     "data": {
      "text/plain": [
       "0     (0, 2]\n",
       "1     (0, 2]\n",
       "2     (2, 6]\n",
       "3     (2, 6]\n",
       "4     (2, 6]\n",
       "5     (2, 6]\n",
       "6     (2, 6]\n",
       "7     (2, 6]\n",
       "8     (0, 2]\n",
       "9     (2, 6]\n",
       "10    (2, 6]\n",
       "11    (2, 6]\n",
       "dtype: category\n",
       "Categories (2, interval[int64, right]): [(0, 2] < (2, 6]]"
      ]
     },
     "execution_count": 174,
     "metadata": {},
     "output_type": "execute_result"
    }
   ],
   "source": [
    "pd.cut(s, bins=[0, 2, 6])"
   ]
  },
  {
   "cell_type": "markdown",
   "metadata": {},
   "source": [
    "#### `qcut`"
   ]
  },
  {
   "cell_type": "code",
   "execution_count": 177,
   "metadata": {},
   "outputs": [
    {
     "data": {
      "text/plain": [
       "0     (0.999, 4.0]\n",
       "1     (0.999, 4.0]\n",
       "2     (0.999, 4.0]\n",
       "3     (0.999, 4.0]\n",
       "4       (4.0, 6.0]\n",
       "5       (4.0, 6.0]\n",
       "6     (0.999, 4.0]\n",
       "7       (4.0, 6.0]\n",
       "8     (0.999, 4.0]\n",
       "9     (0.999, 4.0]\n",
       "10      (4.0, 6.0]\n",
       "11      (4.0, 6.0]\n",
       "dtype: category\n",
       "Categories (2, interval[float64, right]): [(0.999, 4.0] < (4.0, 6.0]]"
      ]
     },
     "execution_count": 177,
     "metadata": {},
     "output_type": "execute_result"
    }
   ],
   "source": [
    "pd.qcut(s, q=2)"
   ]
  },
  {
   "cell_type": "markdown",
   "metadata": {},
   "source": [
    "### 24. "
   ]
  },
  {
   "cell_type": "markdown",
   "metadata": {},
   "source": [
    "### 25. Is is a good idea to iterate over DataFrame rows in Pandas?"
   ]
  },
  {
   "cell_type": "markdown",
   "metadata": {},
   "source": [
    "- Iteration in Pandas is an anti-pattern\n",
    "- Avoid using functions with `iter` in the name if possible"
   ]
  },
  {
   "cell_type": "markdown",
   "metadata": {},
   "source": [
    "### 26. Name some type conversion methods in Pandas"
   ]
  },
  {
   "cell_type": "markdown",
   "metadata": {},
   "source": [
    "- `to_numeric`: convert from non-numeric types, such as string, to numeric ones.\n",
    "- `as_type`: go from almost any type to almost any other type"
   ]
  },
  {
   "cell_type": "markdown",
   "metadata": {},
   "source": [
    "### 27. What is the advantage of using the `map` vs the `apply` method?"
   ]
  },
  {
   "cell_type": "code",
   "execution_count": 192,
   "metadata": {},
   "outputs": [],
   "source": [
    "df = pd.DataFrame({\"A\": [\"hello there\"], \"B\": [\"hi friend\"]})"
   ]
  },
  {
   "cell_type": "markdown",
   "metadata": {},
   "source": [
    "#### `map`\n",
    "\n",
    "- Good for elementwise transformations across multiple rows/columns"
   ]
  },
  {
   "cell_type": "code",
   "execution_count": 196,
   "metadata": {},
   "outputs": [
    {
     "data": {
      "text/html": [
       "<div>\n",
       "<style scoped>\n",
       "    .dataframe tbody tr th:only-of-type {\n",
       "        vertical-align: middle;\n",
       "    }\n",
       "\n",
       "    .dataframe tbody tr th {\n",
       "        vertical-align: top;\n",
       "    }\n",
       "\n",
       "    .dataframe thead th {\n",
       "        text-align: right;\n",
       "    }\n",
       "</style>\n",
       "<table border=\"1\" class=\"dataframe\">\n",
       "  <thead>\n",
       "    <tr style=\"text-align: right;\">\n",
       "      <th></th>\n",
       "      <th>A</th>\n",
       "      <th>B</th>\n",
       "    </tr>\n",
       "  </thead>\n",
       "  <tbody>\n",
       "    <tr>\n",
       "      <th>0</th>\n",
       "      <td>[hello, there]</td>\n",
       "      <td>[hi, friend]</td>\n",
       "    </tr>\n",
       "  </tbody>\n",
       "</table>\n",
       "</div>"
      ],
      "text/plain": [
       "                A             B\n",
       "0  [hello, there]  [hi, friend]"
      ]
     },
     "execution_count": 196,
     "metadata": {},
     "output_type": "execute_result"
    }
   ],
   "source": [
    "df.map(str.split)"
   ]
  },
  {
   "cell_type": "markdown",
   "metadata": {},
   "source": [
    "#### `apply`\n",
    "\n",
    "- Useful for applying any function that cannot be vectorised"
   ]
  },
  {
   "cell_type": "code",
   "execution_count": 200,
   "metadata": {},
   "outputs": [],
   "source": [
    "# df[\"A\"].apply(nltk.sent_tokenize)"
   ]
  },
  {
   "cell_type": "code",
   "execution_count": null,
   "metadata": {},
   "outputs": [],
   "source": []
  }
 ],
 "metadata": {
  "anaconda-cloud": {},
  "kernelspec": {
   "display_name": "Python 3 (ipykernel)",
   "language": "python",
   "name": "python3"
  },
  "language_info": {
   "codemirror_mode": {
    "name": "ipython",
    "version": 3
   },
   "file_extension": ".py",
   "mimetype": "text/x-python",
   "name": "python",
   "nbconvert_exporter": "python",
   "pygments_lexer": "ipython3",
   "version": "3.10.13"
  }
 },
 "nbformat": 4,
 "nbformat_minor": 4
}
